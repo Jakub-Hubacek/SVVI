{
 "cells": [
  {
   "cell_type": "markdown",
   "id": "31b986bc-5705-4b2a-b89a-5942e9f87671",
   "metadata": {},
   "source": [
    "<h2>UMELÉ NEURÓNOVÉ SIETE</h2>"
   ]
  },
  {
   "cell_type": "markdown",
   "id": "dfab4f33-ad3f-4679-953e-85eef1922332",
   "metadata": {},
   "source": [
    "Zo stránky https://www.superdatascience.com/machine-learning/ stiahneme súbor <strong>Machine Learning A-Z (Codes and Datasets).zip</strong>."
   ]
  },
  {
   "cell_type": "markdown",
   "id": "87fa0322-7c48-4f3f-84a2-479d9782c6d6",
   "metadata": {},
   "source": [
    "Z tohto archívu nás zaujíma súbor <strong>Churn_Modelling.csv</strong>, nájdeme v ňom teda tento súbor (je v <em>Part 8: Deep Learning - Section 39 - Artificial Neural Networks (ANN)</em>). Dáme ho do priečinka, kde sa nachádza aj tento notebook (ipynb súbor). Budú teda v tom istom priečinku. Nakoľko csv súbory Excel nie vždy otvára správne, otvoríme ho priamo v JupyterLab alebo Google Colab alebo online pomocou stránky https://limonte.github.io/csv-viewer-online/ ."
   ]
  },
  {
   "cell_type": "markdown",
   "id": "3840db12-7ac0-4423-8362-49c7661c6c13",
   "metadata": {},
   "source": [
    "V tejto tabuľke sa nachádzajú údaje o klientoch banky. Závislou premennou je fakt, či daný klient banky z nej neskôr odišiel alebo nie. Ide teda o typický príklad problému klasifikácie do 2 tried. Pokročilou metódou klasifikácie je využitie umelých neurónových sietí."
   ]
  },
  {
   "cell_type": "markdown",
   "id": "c7f10359-071a-4abf-aaad-edb29ce79ac8",
   "metadata": {},
   "source": [
    "Nasleduje inštalácia knižníc, ktorú nerobíme, ak pracujeme s Google Colab."
   ]
  },
  {
   "cell_type": "markdown",
   "id": "71795070-a7f3-43db-ac36-0f7ec3c94ba4",
   "metadata": {},
   "source": [
    "Potrebujeme najprv nainštalovať knižnicu <strong>Theano</strong>, ktorá je určená pre numerické operácie, podobne ako Numpy, ktorú sme už používali. Výhodou je, že vie na tieto operácie využiť aj GPU."
   ]
  },
  {
   "cell_type": "markdown",
   "id": "bb7a58ab-2e01-401c-b0cc-3fd2b676963e",
   "metadata": {},
   "source": [
    "Otvoríme si teda balíčkový systém Anacondy, vyhľadáme Theano a nainštalujeme ho (keby nám ho nenašlo, zatlačíme <em>Update index</em>):<br /><img src=\"http://mvi.mechatronika.cool/sites/default/files/obrazky/obrazok_cv4_3.png\" />"
   ]
  },
  {
   "cell_type": "markdown",
   "id": "536372f9-81e0-4f4a-8d58-6d7319ed4af9",
   "metadata": {},
   "source": [
    "Potrebujeme nainštalovať knižnicu <strong>Tensorflow</strong>, o ktorej si môžeme viac prečítať na webe. Práca s ňou je pomerne zložitá a je vhodná na výskum. Prejdeme teda podobným spôsobom na balíčkový systém Anacondy a vyberieme TensorFlow <em>(verziu pre CPU, nakoľko GPU verzia môže požadovať inštaláciu CUDA a ďalších komponentov)</em>:<br /><img src=\"http://mvi.mechatronika.cool/sites/default/files/obrazky/obrazok_cv4_4.png\" />"
   ]
  },
  {
   "cell_type": "markdown",
   "id": "7281bd82-84aa-4381-a46e-7bdf890e7953",
   "metadata": {},
   "source": [
    "Nainštalujeme pomocou Anaconda balíčkového systému knižnicu <strong>Keras</strong>, ktorá slúži na zjednodušenú tvorbu neurónových sietí pomocou Tensorflow::<br /><img src=\"http://mvi.mechatronika.cool/sites/default/files/obrazky/obrazok_cv4_5.png\" />"
   ]
  },
  {
   "cell_type": "markdown",
   "id": "c664f58d-fa70-455d-800a-a17f97de561a",
   "metadata": {},
   "source": [
    "Spustíme kód, ktorý nám importuje potrebné knižnice a vypíše, akú máme nainštalovanú verziu Tensorflow. Toto už robíme aj v prípade, že pracujeme s Google Colab."
   ]
  },
  {
   "cell_type": "code",
   "execution_count": 43,
   "id": "c471875c-131a-4917-9692-9dad5445f2a9",
   "metadata": {},
   "outputs": [
    {
     "data": {
      "text/plain": [
       "'2.10.1'"
      ]
     },
     "execution_count": 43,
     "metadata": {},
     "output_type": "execute_result"
    }
   ],
   "source": [
    "# Importing the libraries\n",
    "import numpy as np\n",
    "import pandas as pd\n",
    "import tensorflow as tf\n",
    "tf.__version__"
   ]
  },
  {
   "cell_type": "markdown",
   "id": "e490d0bd-e93a-4f5a-a9fc-6f94b8383e68",
   "metadata": {},
   "source": [
    "Importujeme náš dataset. Vidíme, že je logické, že prvé 3 stĺpce, ako sú <em>RowNumber</em>, <em>CustomerId</em> a <em>Surname</em> nám nijakým spôsobom nemôžu vplývať na výstup. Preto berieme do úvahy v premennej <strong><em>X</em></strong> len stĺpce s indexom 3 až 12. Riadok s <strong><em>y</em></strong> musíme logicky upraviť nasledovne, keďže závislé údaje sú v stĺpci s indexom 13:"
   ]
  },
  {
   "cell_type": "code",
   "execution_count": 44,
   "id": "68b8aba9-f02f-4cdd-8e31-278fbe26f2f2",
   "metadata": {},
   "outputs": [],
   "source": [
    "# Importing the dataset\n",
    "dataset = pd.read_csv('Churn_Modelling.csv')\n",
    "X = dataset.iloc[:, 3:13].values\n",
    "y = dataset.iloc[:, 13].values"
   ]
  },
  {
   "cell_type": "markdown",
   "id": "0e246f1e-f319-4262-a3d3-e740d0fb2bf3",
   "metadata": {},
   "source": [
    "Po tomto kóde pridáme kód na spracovanie kategorických dát. Vidíme, že potrebujeme spracovať pohlavie <em>Male / Female</em>. Toto nám stačí prepísať na 0 / 1. Využijeme teda <em>LabelEncoder</em>."
   ]
  },
  {
   "cell_type": "code",
   "execution_count": 45,
   "id": "e0ab931d-aad9-41c4-be39-8819efec1fd9",
   "metadata": {},
   "outputs": [],
   "source": [
    "# Encoding categorical data\n",
    "from sklearn.preprocessing import LabelEncoder\n",
    "le = LabelEncoder()\n",
    "X[:,2] = le.fit_transform(X[:, 2])"
   ]
  },
  {
   "cell_type": "markdown",
   "id": "f8b12779-05fc-403a-a139-3268c1a294e8",
   "metadata": {},
   "source": [
    "Po tomto kóde pridáme ďalší kód na spracovanie kategorických dát. Vidíme, že potrebujeme nejakým spôsobom spracovať krajiny, ktoré máme 3. Keďže medzi nimi neexistuje žiaden vzťah, ktorý by sa týkal ich poradia a sú 3, tak použijeme <em>OneHotEncoder</em>:"
   ]
  },
  {
   "cell_type": "code",
   "execution_count": 46,
   "id": "9fcfe95b-d714-476f-b3fc-8e65e208f84e",
   "metadata": {},
   "outputs": [],
   "source": [
    "# One Hot Encoding the \"Geography\" column\n",
    "from sklearn.compose import ColumnTransformer\n",
    "from sklearn.preprocessing import OneHotEncoder\n",
    "ct = ColumnTransformer(transformers=[('encoder', OneHotEncoder(), [1])], remainder='passthrough')\n",
    "X = np.array(ct.fit_transform(X))"
   ]
  },
  {
   "cell_type": "markdown",
   "id": "d629541f-5cdd-4acb-9b0f-9c386a68d923",
   "metadata": {},
   "source": [
    "Realizujeme škálovanie (<em>Feature Scaling</em>) našich nezávislých premenných, pričom zahrnieme všetky:"
   ]
  },
  {
   "cell_type": "code",
   "execution_count": 47,
   "id": "703f5a70-5476-451d-9fa0-a2b8822b05bf",
   "metadata": {},
   "outputs": [],
   "source": [
    "# Feature Scaling\n",
    "from sklearn.preprocessing import StandardScaler\n",
    "sc = StandardScaler()\n",
    "X = sc.fit_transform(X)"
   ]
  },
  {
   "cell_type": "markdown",
   "id": "d8f71901-7025-4dac-83dd-0fad3a73216f",
   "metadata": {},
   "source": [
    "Riadok s rozdeľovaním dát na trénovacie a testovacie zadáme tak, aby testovacie dáta tvorili pätinu datasetu:"
   ]
  },
  {
   "cell_type": "code",
   "execution_count": 48,
   "id": "00fc56bd-69c0-4a45-9ef1-ce5d58afeacf",
   "metadata": {},
   "outputs": [],
   "source": [
    "# Splitting the dataset into the Training set and Test set\n",
    "from sklearn.model_selection import train_test_split\n",
    "X_train, X_test, y_train, y_test = train_test_split(X, y, test_size = 0.2, random_state = 0)"
   ]
  },
  {
   "cell_type": "markdown",
   "id": "6bb9f826-05ce-42b1-9aad-a5d94a624fb9",
   "metadata": {},
   "source": [
    "Práca s neurónovou sieťou pozostáva z nasledovných krokov.\n",
    "<br /><img src=\"http://mvi.mechatronika.cool/sites/default/files/obrazky/obrazok_cv4_6.png\" />\n",
    "<br /><img src=\"http://mvi.mechatronika.cool/sites/default/files/obrazky/obrazok_cv4_7.png\" />\n",
    "<br /><img src=\"http://mvi.mechatronika.cool/sites/default/files/obrazky/obrazok_cv4_8.png\" />\n",
    "<br /><img src=\"http://mvi.mechatronika.cool/sites/default/files/obrazky/obrazok_cv4_9.png\" />\n",
    "<br /><img src=\"http://mvi.mechatronika.cool/sites/default/files/obrazky/obrazok_cv4_10.png\" />"
   ]
  },
  {
   "cell_type": "markdown",
   "id": "bb0073cb-9728-43a2-b589-e764b9af1d73",
   "metadata": {},
   "source": [
    "Inicializujeme neurónovú sieť:"
   ]
  },
  {
   "cell_type": "code",
   "execution_count": 49,
   "id": "c77e1e51-eee1-4935-a2bc-c98863a8abca",
   "metadata": {},
   "outputs": [],
   "source": [
    "# Initialising the ANN\n",
    "ann = tf.keras.models.Sequential()"
   ]
  },
  {
   "cell_type": "markdown",
   "id": "8fcb193d-2e3f-4a72-a7d6-88bcd95598d5",
   "metadata": {},
   "source": [
    "Pridáme prvú vrstvu, teda vstupnú vrstvu, kde počet neurónov bude taký, aký máme počet našich príznakov, teda nezávislých premenných, čo vidíme v <em>input dimension</em> nastavených na 12. Toto je nepovinný parameter a automaticky by sa nám nastavil na 12. Typ vrstvy je <em>Dense</em>, čo je plne prepojená vrstva. Ako aktivačnú funkciu sme si vybrali <strong><em>relu</em></strong>, ktorá je na vstupnú vrstvu vhodná. Zároveň pridávame týmto aj prvú skrytú vrstvu, ktorej dávame 6 neurónov. Môže sa táto logika zdať zvláštna, že pomocou jedného príkazu pridávame 2 vrstvy, ale je to tak. Toto číslo môžeme neskôr skusmo meniť:"
   ]
  },
  {
   "cell_type": "code",
   "execution_count": 50,
   "id": "9429adb1-7a2e-41b6-b8fe-5a395b9fb773",
   "metadata": {},
   "outputs": [],
   "source": [
    "# Adding the input layer and the first hidden layer\n",
    "ann.add(tf.keras.layers.Dense(units=6, activation='relu', input_dim=12))"
   ]
  },
  {
   "cell_type": "markdown",
   "id": "3a3c3355-db40-41b4-8bcb-2138ec67743c",
   "metadata": {},
   "source": [
    "Pridáme ďalšiu skrytú vrstvu:"
   ]
  },
  {
   "cell_type": "code",
   "execution_count": 51,
   "id": "4d104532-67a5-4f6a-8060-f59f953d5ae3",
   "metadata": {},
   "outputs": [],
   "source": [
    "# Adding the second hidden layer\n",
    "ann.add(tf.keras.layers.Dense(units=6, activation='relu'))"
   ]
  },
  {
   "cell_type": "markdown",
   "id": "5fcc3c8e-b47d-4eb0-a889-d74c26f41519",
   "metadata": {},
   "source": [
    "Pridáme výstupnú vrstvu, kde počet výstupných neurónov bude 1, nakoľko výstupná vrstva nám bude určovať, či zákazník z banky odišiel alebo nie, čo je binárny výstup 0 alebo 1. Aktivačná funkcia je do výstupnej funkcie vhodná <em><strong>sigmoid</em></strong>. Ak by sme mali viac kategórií, tak je vhodné využiť <em><strong>softmax</em></strong>."
   ]
  },
  {
   "cell_type": "code",
   "execution_count": 52,
   "id": "6a57fcfb-57c0-4380-a78c-4ab5803a7858",
   "metadata": {},
   "outputs": [],
   "source": [
    "# Adding the output layer\n",
    "ann.add(tf.keras.layers.Dense(units=1, activation='sigmoid'))"
   ]
  },
  {
   "cell_type": "markdown",
   "id": "b0f11e7c-e38a-47db-a202-fe04955a1ece",
   "metadata": {},
   "source": [
    "Neurónovú sieť skompilujeme. Loss nastavujeme na <em><strong>binary_crossentropy</em></strong>, nakoľko máme binárny výstup. Ak by sme mali viac kategórií, tak využijeme <em><strong>categorical_crossentropy</em></strong>."
   ]
  },
  {
   "cell_type": "code",
   "execution_count": 53,
   "id": "9433ef4c-f9e7-4ac8-b556-03bfdcbbf0f1",
   "metadata": {},
   "outputs": [],
   "source": [
    "# Compiling the ANN\n",
    "ann.compile(optimizer = 'adam', loss = 'binary_crossentropy', metrics = ['accuracy'])"
   ]
  },
  {
   "cell_type": "markdown",
   "id": "7b869518-8bda-4c3b-a45e-bc1f83874ac2",
   "metadata": {},
   "source": [
    "Neurónovú sieť natrénujeme, počet epoch nastavíme na 100. Nezabudnime, že ak chceme skúšať sieť s inými parametrami, tak musíme zmazať všetky dáta v pamäti, ktoré sa týkajú neurónovej siete a spustiť jej inicializáciu znova, nakoľko to vyzerá, že JupyterLab si pamätá predošlé natrénovanie:"
   ]
  },
  {
   "cell_type": "code",
   "execution_count": 54,
   "id": "f0df8b7f-5994-4e59-a410-dca007bebcc9",
   "metadata": {},
   "outputs": [
    {
     "name": "stdout",
     "output_type": "stream",
     "text": [
      "Epoch 1/100\n",
      "250/250 [==============================] - 1s 2ms/step - loss: 0.5232 - accuracy: 0.7960 - val_loss: 0.4928 - val_accuracy: 0.7975\n",
      "Epoch 2/100\n",
      "250/250 [==============================] - 0s 1ms/step - loss: 0.4717 - accuracy: 0.7960 - val_loss: 0.4619 - val_accuracy: 0.7975\n",
      "Epoch 3/100\n",
      "250/250 [==============================] - 0s 1ms/step - loss: 0.4487 - accuracy: 0.7960 - val_loss: 0.4451 - val_accuracy: 0.7975\n",
      "Epoch 4/100\n",
      "250/250 [==============================] - 0s 1ms/step - loss: 0.4355 - accuracy: 0.7960 - val_loss: 0.4352 - val_accuracy: 0.7975\n",
      "Epoch 5/100\n",
      "250/250 [==============================] - 0s 1ms/step - loss: 0.4284 - accuracy: 0.7987 - val_loss: 0.4300 - val_accuracy: 0.8130\n",
      "Epoch 6/100\n",
      "250/250 [==============================] - 0s 1ms/step - loss: 0.4246 - accuracy: 0.8123 - val_loss: 0.4264 - val_accuracy: 0.8175\n",
      "Epoch 7/100\n",
      "250/250 [==============================] - 0s 1ms/step - loss: 0.4219 - accuracy: 0.8171 - val_loss: 0.4238 - val_accuracy: 0.8255\n",
      "Epoch 8/100\n",
      "250/250 [==============================] - 0s 1ms/step - loss: 0.4199 - accuracy: 0.8199 - val_loss: 0.4217 - val_accuracy: 0.8255\n",
      "Epoch 9/100\n",
      "250/250 [==============================] - 0s 1ms/step - loss: 0.4175 - accuracy: 0.8219 - val_loss: 0.4193 - val_accuracy: 0.8320\n",
      "Epoch 10/100\n",
      "250/250 [==============================] - 0s 1ms/step - loss: 0.4153 - accuracy: 0.8261 - val_loss: 0.4155 - val_accuracy: 0.8300\n",
      "Epoch 11/100\n",
      "250/250 [==============================] - 0s 1ms/step - loss: 0.4127 - accuracy: 0.8261 - val_loss: 0.4126 - val_accuracy: 0.8335\n",
      "Epoch 12/100\n",
      "250/250 [==============================] - 0s 1ms/step - loss: 0.4091 - accuracy: 0.8279 - val_loss: 0.4091 - val_accuracy: 0.8345\n",
      "Epoch 13/100\n",
      "250/250 [==============================] - 0s 1ms/step - loss: 0.4044 - accuracy: 0.8317 - val_loss: 0.4056 - val_accuracy: 0.8365\n",
      "Epoch 14/100\n",
      "250/250 [==============================] - 0s 2ms/step - loss: 0.3995 - accuracy: 0.8336 - val_loss: 0.3994 - val_accuracy: 0.8360\n",
      "Epoch 15/100\n",
      "250/250 [==============================] - 0s 1ms/step - loss: 0.3946 - accuracy: 0.8359 - val_loss: 0.3934 - val_accuracy: 0.8420\n",
      "Epoch 16/100\n",
      "250/250 [==============================] - 0s 1ms/step - loss: 0.3899 - accuracy: 0.8396 - val_loss: 0.3890 - val_accuracy: 0.8420\n",
      "Epoch 17/100\n",
      "250/250 [==============================] - 0s 1ms/step - loss: 0.3843 - accuracy: 0.8410 - val_loss: 0.3845 - val_accuracy: 0.8445\n",
      "Epoch 18/100\n",
      "250/250 [==============================] - 0s 1ms/step - loss: 0.3790 - accuracy: 0.8422 - val_loss: 0.3809 - val_accuracy: 0.8450\n",
      "Epoch 19/100\n",
      "250/250 [==============================] - 0s 1ms/step - loss: 0.3744 - accuracy: 0.8439 - val_loss: 0.3769 - val_accuracy: 0.8465\n",
      "Epoch 20/100\n",
      "250/250 [==============================] - 0s 1ms/step - loss: 0.3715 - accuracy: 0.8459 - val_loss: 0.3750 - val_accuracy: 0.8405\n",
      "Epoch 21/100\n",
      "250/250 [==============================] - 0s 1ms/step - loss: 0.3679 - accuracy: 0.8479 - val_loss: 0.3707 - val_accuracy: 0.8460\n",
      "Epoch 22/100\n",
      "250/250 [==============================] - 0s 1ms/step - loss: 0.3653 - accuracy: 0.8486 - val_loss: 0.3678 - val_accuracy: 0.8470\n",
      "Epoch 23/100\n",
      "250/250 [==============================] - 0s 1ms/step - loss: 0.3634 - accuracy: 0.8512 - val_loss: 0.3646 - val_accuracy: 0.8465\n",
      "Epoch 24/100\n",
      "250/250 [==============================] - 0s 1ms/step - loss: 0.3614 - accuracy: 0.8525 - val_loss: 0.3639 - val_accuracy: 0.8450\n",
      "Epoch 25/100\n",
      "250/250 [==============================] - 0s 1ms/step - loss: 0.3593 - accuracy: 0.8533 - val_loss: 0.3609 - val_accuracy: 0.8480\n",
      "Epoch 26/100\n",
      "250/250 [==============================] - 0s 1ms/step - loss: 0.3577 - accuracy: 0.8536 - val_loss: 0.3601 - val_accuracy: 0.8480\n",
      "Epoch 27/100\n",
      "250/250 [==============================] - 0s 1ms/step - loss: 0.3556 - accuracy: 0.8543 - val_loss: 0.3588 - val_accuracy: 0.8515\n",
      "Epoch 28/100\n",
      "250/250 [==============================] - 0s 1ms/step - loss: 0.3554 - accuracy: 0.8560 - val_loss: 0.3563 - val_accuracy: 0.8480\n",
      "Epoch 29/100\n",
      "250/250 [==============================] - 0s 1ms/step - loss: 0.3536 - accuracy: 0.8561 - val_loss: 0.3524 - val_accuracy: 0.8545\n",
      "Epoch 30/100\n",
      "250/250 [==============================] - 0s 1ms/step - loss: 0.3529 - accuracy: 0.8546 - val_loss: 0.3531 - val_accuracy: 0.8500\n",
      "Epoch 31/100\n",
      "250/250 [==============================] - 0s 1ms/step - loss: 0.3517 - accuracy: 0.8565 - val_loss: 0.3515 - val_accuracy: 0.8540\n",
      "Epoch 32/100\n",
      "250/250 [==============================] - 0s 1ms/step - loss: 0.3509 - accuracy: 0.8568 - val_loss: 0.3511 - val_accuracy: 0.8515\n",
      "Epoch 33/100\n",
      "250/250 [==============================] - 0s 1ms/step - loss: 0.3503 - accuracy: 0.8550 - val_loss: 0.3513 - val_accuracy: 0.8520\n",
      "Epoch 34/100\n",
      "250/250 [==============================] - 0s 1ms/step - loss: 0.3491 - accuracy: 0.8570 - val_loss: 0.3462 - val_accuracy: 0.8560\n",
      "Epoch 35/100\n",
      "250/250 [==============================] - 0s 1ms/step - loss: 0.3487 - accuracy: 0.8570 - val_loss: 0.3465 - val_accuracy: 0.8535\n",
      "Epoch 36/100\n",
      "250/250 [==============================] - 0s 1ms/step - loss: 0.3481 - accuracy: 0.8575 - val_loss: 0.3448 - val_accuracy: 0.8540\n",
      "Epoch 37/100\n",
      "250/250 [==============================] - 0s 1ms/step - loss: 0.3472 - accuracy: 0.8589 - val_loss: 0.3456 - val_accuracy: 0.8535\n",
      "Epoch 38/100\n",
      "250/250 [==============================] - 0s 1ms/step - loss: 0.3463 - accuracy: 0.8586 - val_loss: 0.3448 - val_accuracy: 0.8560\n",
      "Epoch 39/100\n",
      "250/250 [==============================] - 0s 1ms/step - loss: 0.3467 - accuracy: 0.8577 - val_loss: 0.3444 - val_accuracy: 0.8535\n",
      "Epoch 40/100\n",
      "250/250 [==============================] - 0s 1ms/step - loss: 0.3463 - accuracy: 0.8587 - val_loss: 0.3421 - val_accuracy: 0.8565\n",
      "Epoch 41/100\n",
      "250/250 [==============================] - 0s 1ms/step - loss: 0.3457 - accuracy: 0.8587 - val_loss: 0.3409 - val_accuracy: 0.8565\n",
      "Epoch 42/100\n",
      "250/250 [==============================] - 0s 1ms/step - loss: 0.3455 - accuracy: 0.8590 - val_loss: 0.3410 - val_accuracy: 0.8580\n",
      "Epoch 43/100\n",
      "250/250 [==============================] - 0s 1ms/step - loss: 0.3452 - accuracy: 0.8604 - val_loss: 0.3422 - val_accuracy: 0.8560\n",
      "Epoch 44/100\n",
      "250/250 [==============================] - 0s 1ms/step - loss: 0.3449 - accuracy: 0.8581 - val_loss: 0.3408 - val_accuracy: 0.8575\n",
      "Epoch 45/100\n",
      "250/250 [==============================] - 0s 1ms/step - loss: 0.3451 - accuracy: 0.8591 - val_loss: 0.3403 - val_accuracy: 0.8560\n",
      "Epoch 46/100\n",
      "250/250 [==============================] - 0s 1ms/step - loss: 0.3435 - accuracy: 0.8584 - val_loss: 0.3454 - val_accuracy: 0.8525\n",
      "Epoch 47/100\n",
      "250/250 [==============================] - 0s 1ms/step - loss: 0.3440 - accuracy: 0.8605 - val_loss: 0.3415 - val_accuracy: 0.8545\n",
      "Epoch 48/100\n",
      "250/250 [==============================] - 0s 1ms/step - loss: 0.3439 - accuracy: 0.8587 - val_loss: 0.3398 - val_accuracy: 0.8555\n",
      "Epoch 49/100\n",
      "250/250 [==============================] - 0s 1ms/step - loss: 0.3437 - accuracy: 0.8587 - val_loss: 0.3405 - val_accuracy: 0.8550\n",
      "Epoch 50/100\n",
      "250/250 [==============================] - 0s 1ms/step - loss: 0.3433 - accuracy: 0.8606 - val_loss: 0.3399 - val_accuracy: 0.8605\n",
      "Epoch 51/100\n",
      "250/250 [==============================] - 0s 1ms/step - loss: 0.3430 - accuracy: 0.8590 - val_loss: 0.3413 - val_accuracy: 0.8595\n",
      "Epoch 52/100\n",
      "250/250 [==============================] - 0s 1ms/step - loss: 0.3429 - accuracy: 0.8590 - val_loss: 0.3393 - val_accuracy: 0.8575\n",
      "Epoch 53/100\n",
      "250/250 [==============================] - 0s 1ms/step - loss: 0.3428 - accuracy: 0.8604 - val_loss: 0.3396 - val_accuracy: 0.8585\n",
      "Epoch 54/100\n",
      "250/250 [==============================] - 0s 1ms/step - loss: 0.3423 - accuracy: 0.8615 - val_loss: 0.3383 - val_accuracy: 0.8615\n",
      "Epoch 55/100\n",
      "250/250 [==============================] - 0s 1ms/step - loss: 0.3418 - accuracy: 0.8601 - val_loss: 0.3390 - val_accuracy: 0.8575\n",
      "Epoch 56/100\n",
      "250/250 [==============================] - 0s 1ms/step - loss: 0.3413 - accuracy: 0.8593 - val_loss: 0.3383 - val_accuracy: 0.8605\n",
      "Epoch 57/100\n",
      "250/250 [==============================] - 0s 1ms/step - loss: 0.3417 - accuracy: 0.8600 - val_loss: 0.3401 - val_accuracy: 0.8585\n",
      "Epoch 58/100\n",
      "250/250 [==============================] - 0s 1ms/step - loss: 0.3412 - accuracy: 0.8596 - val_loss: 0.3402 - val_accuracy: 0.8570\n",
      "Epoch 59/100\n",
      "250/250 [==============================] - 0s 1ms/step - loss: 0.3411 - accuracy: 0.8605 - val_loss: 0.3382 - val_accuracy: 0.8615\n",
      "Epoch 60/100\n",
      "250/250 [==============================] - 0s 1ms/step - loss: 0.3407 - accuracy: 0.8593 - val_loss: 0.3423 - val_accuracy: 0.8555\n",
      "Epoch 61/100\n",
      "250/250 [==============================] - 0s 1ms/step - loss: 0.3407 - accuracy: 0.8600 - val_loss: 0.3358 - val_accuracy: 0.8595\n",
      "Epoch 62/100\n",
      "250/250 [==============================] - 0s 1ms/step - loss: 0.3407 - accuracy: 0.8586 - val_loss: 0.3390 - val_accuracy: 0.8585\n",
      "Epoch 63/100\n",
      "250/250 [==============================] - 0s 1ms/step - loss: 0.3403 - accuracy: 0.8599 - val_loss: 0.3390 - val_accuracy: 0.8585\n",
      "Epoch 64/100\n",
      "250/250 [==============================] - 0s 1ms/step - loss: 0.3406 - accuracy: 0.8610 - val_loss: 0.3378 - val_accuracy: 0.8570\n",
      "Epoch 65/100\n",
      "250/250 [==============================] - 0s 1ms/step - loss: 0.3401 - accuracy: 0.8610 - val_loss: 0.3377 - val_accuracy: 0.8570\n",
      "Epoch 66/100\n",
      "250/250 [==============================] - 0s 1ms/step - loss: 0.3399 - accuracy: 0.8596 - val_loss: 0.3354 - val_accuracy: 0.8590\n",
      "Epoch 67/100\n",
      "250/250 [==============================] - 0s 1ms/step - loss: 0.3401 - accuracy: 0.8609 - val_loss: 0.3374 - val_accuracy: 0.8585\n",
      "Epoch 68/100\n",
      "250/250 [==============================] - 0s 1ms/step - loss: 0.3395 - accuracy: 0.8605 - val_loss: 0.3370 - val_accuracy: 0.8600\n",
      "Epoch 69/100\n",
      "250/250 [==============================] - 0s 1ms/step - loss: 0.3396 - accuracy: 0.8599 - val_loss: 0.3354 - val_accuracy: 0.8585\n",
      "Epoch 70/100\n",
      "250/250 [==============================] - 0s 1ms/step - loss: 0.3395 - accuracy: 0.8590 - val_loss: 0.3357 - val_accuracy: 0.8565\n",
      "Epoch 71/100\n",
      "250/250 [==============================] - 0s 1ms/step - loss: 0.3390 - accuracy: 0.8608 - val_loss: 0.3359 - val_accuracy: 0.8575\n",
      "Epoch 72/100\n",
      "250/250 [==============================] - 0s 1ms/step - loss: 0.3393 - accuracy: 0.8608 - val_loss: 0.3407 - val_accuracy: 0.8535\n",
      "Epoch 73/100\n",
      "250/250 [==============================] - 0s 1ms/step - loss: 0.3392 - accuracy: 0.8595 - val_loss: 0.3374 - val_accuracy: 0.8595\n",
      "Epoch 74/100\n",
      "250/250 [==============================] - 0s 1ms/step - loss: 0.3390 - accuracy: 0.8624 - val_loss: 0.3345 - val_accuracy: 0.8585\n",
      "Epoch 75/100\n",
      "250/250 [==============================] - 0s 1ms/step - loss: 0.3393 - accuracy: 0.8610 - val_loss: 0.3344 - val_accuracy: 0.8570\n",
      "Epoch 76/100\n",
      "250/250 [==============================] - 0s 1ms/step - loss: 0.3392 - accuracy: 0.8614 - val_loss: 0.3339 - val_accuracy: 0.8590\n",
      "Epoch 77/100\n",
      "250/250 [==============================] - 0s 1ms/step - loss: 0.3388 - accuracy: 0.8614 - val_loss: 0.3356 - val_accuracy: 0.8550\n",
      "Epoch 78/100\n",
      "250/250 [==============================] - 0s 1ms/step - loss: 0.3391 - accuracy: 0.8594 - val_loss: 0.3338 - val_accuracy: 0.8570\n",
      "Epoch 79/100\n",
      "250/250 [==============================] - 0s 1ms/step - loss: 0.3386 - accuracy: 0.8622 - val_loss: 0.3391 - val_accuracy: 0.8580\n",
      "Epoch 80/100\n",
      "250/250 [==============================] - 0s 1ms/step - loss: 0.3385 - accuracy: 0.8611 - val_loss: 0.3404 - val_accuracy: 0.8565\n",
      "Epoch 81/100\n",
      "250/250 [==============================] - 0s 1ms/step - loss: 0.3387 - accuracy: 0.8596 - val_loss: 0.3342 - val_accuracy: 0.8575\n",
      "Epoch 82/100\n",
      "250/250 [==============================] - 0s 1ms/step - loss: 0.3385 - accuracy: 0.8620 - val_loss: 0.3368 - val_accuracy: 0.8555\n",
      "Epoch 83/100\n",
      "250/250 [==============================] - 0s 1ms/step - loss: 0.3380 - accuracy: 0.8611 - val_loss: 0.3373 - val_accuracy: 0.8560\n",
      "Epoch 84/100\n",
      "250/250 [==============================] - 0s 1ms/step - loss: 0.3381 - accuracy: 0.8625 - val_loss: 0.3408 - val_accuracy: 0.8550\n",
      "Epoch 85/100\n",
      "250/250 [==============================] - 0s 1ms/step - loss: 0.3388 - accuracy: 0.8616 - val_loss: 0.3330 - val_accuracy: 0.8590\n",
      "Epoch 86/100\n",
      "250/250 [==============================] - 0s 1ms/step - loss: 0.3382 - accuracy: 0.8602 - val_loss: 0.3393 - val_accuracy: 0.8520\n",
      "Epoch 87/100\n",
      "250/250 [==============================] - 0s 1ms/step - loss: 0.3387 - accuracy: 0.8616 - val_loss: 0.3364 - val_accuracy: 0.8565\n",
      "Epoch 88/100\n",
      "250/250 [==============================] - 0s 1ms/step - loss: 0.3381 - accuracy: 0.8616 - val_loss: 0.3350 - val_accuracy: 0.8575\n",
      "Epoch 89/100\n",
      "250/250 [==============================] - 0s 1ms/step - loss: 0.3384 - accuracy: 0.8604 - val_loss: 0.3357 - val_accuracy: 0.8605\n",
      "Epoch 90/100\n",
      "250/250 [==============================] - 0s 1ms/step - loss: 0.3383 - accuracy: 0.8622 - val_loss: 0.3336 - val_accuracy: 0.8575\n",
      "Epoch 91/100\n",
      "250/250 [==============================] - 0s 1ms/step - loss: 0.3381 - accuracy: 0.8605 - val_loss: 0.3315 - val_accuracy: 0.8590\n",
      "Epoch 92/100\n",
      "250/250 [==============================] - 0s 1ms/step - loss: 0.3383 - accuracy: 0.8608 - val_loss: 0.3346 - val_accuracy: 0.8600\n",
      "Epoch 93/100\n",
      "250/250 [==============================] - 0s 1ms/step - loss: 0.3382 - accuracy: 0.8620 - val_loss: 0.3316 - val_accuracy: 0.8570\n",
      "Epoch 94/100\n",
      "250/250 [==============================] - 0s 1ms/step - loss: 0.3374 - accuracy: 0.8621 - val_loss: 0.3306 - val_accuracy: 0.8605\n",
      "Epoch 95/100\n",
      "250/250 [==============================] - 0s 1ms/step - loss: 0.3382 - accuracy: 0.8610 - val_loss: 0.3307 - val_accuracy: 0.8620\n",
      "Epoch 96/100\n",
      "250/250 [==============================] - 0s 1ms/step - loss: 0.3381 - accuracy: 0.8612 - val_loss: 0.3318 - val_accuracy: 0.8565\n",
      "Epoch 97/100\n",
      "250/250 [==============================] - 0s 1ms/step - loss: 0.3380 - accuracy: 0.8610 - val_loss: 0.3377 - val_accuracy: 0.8575\n",
      "Epoch 98/100\n",
      "250/250 [==============================] - 0s 1ms/step - loss: 0.3377 - accuracy: 0.8615 - val_loss: 0.3347 - val_accuracy: 0.8585\n",
      "Epoch 99/100\n",
      "250/250 [==============================] - 0s 1ms/step - loss: 0.3377 - accuracy: 0.8614 - val_loss: 0.3319 - val_accuracy: 0.8595\n",
      "Epoch 100/100\n",
      "250/250 [==============================] - 0s 1ms/step - loss: 0.3379 - accuracy: 0.8629 - val_loss: 0.3326 - val_accuracy: 0.8570\n"
     ]
    }
   ],
   "source": [
    "# Fitting the ANN to the Training set\n",
    "ann1 = ann.fit(X_train, y_train, validation_data = (X_test, y_test),  batch_size = 32, epochs = 100)"
   ]
  },
  {
   "cell_type": "markdown",
   "id": "695b2e14-f957-4505-a31c-9e66cbc8a214",
   "metadata": {},
   "source": [
    "Program spustíme a sledujeme priebeh trénovania."
   ]
  },
  {
   "cell_type": "markdown",
   "id": "b9bb57d4-8f22-4f91-9672-b44f56361af7",
   "metadata": {},
   "source": [
    "Zobrazíme si priebeh trénovania neurónovej siete pomocou zobrazenia presnosti. <em>Accuracy</em> je presnosť pre trénovaciu množinu a <em>val_accuracy</em> je presnosť pre testovaciu (validačnú) množinu. Ak je presnosť pre trénovaciu množinu veľmi vysoká, avšak nízka pre testovaciu, znamená to, že sieť je pretrénovaná (<strong>overfitting</strong>)."
   ]
  },
  {
   "cell_type": "code",
   "execution_count": 55,
   "id": "5c485c88-ed7c-4ea6-a8f1-2e0cccc9b32b",
   "metadata": {},
   "outputs": [
    {
     "data": {
      "image/png": "[encoded data removed]",
      "text/plain": [
       "<Figure size 640x480 with 1 Axes>"
      ]
     },
     "metadata": {},
     "output_type": "display_data"
    }
   ],
   "source": [
    "import matplotlib.pyplot as plt\n",
    "plt.plot(ann1.history['accuracy'])\n",
    "plt.plot(ann1.history['val_accuracy'])\n",
    "plt.title('Model accuracy')\n",
    "plt.ylabel('Accuracy')\n",
    "plt.xlabel('Epoch')\n",
    "plt.legend(['Train', 'Test'], loc='upper left')\n",
    "plt.show()"
   ]
  },
  {
   "cell_type": "markdown",
   "id": "b41fa1d3-e166-4462-ae0f-83b16e31deb9",
   "metadata": {},
   "source": [
    "Zobrazíme si priebeh trénovania neurónovej siete pomocou zobrazenia loss:"
   ]
  },
  {
   "cell_type": "code",
   "execution_count": 56,
   "id": "585c9788-a698-48eb-b5e7-64d7c67e288d",
   "metadata": {},
   "outputs": [
    {
     "data": {
      "image/png": "[encoded data removed]",
      "text/plain": [
       "<Figure size 640x480 with 1 Axes>"
      ]
     },
     "metadata": {},
     "output_type": "display_data"
    }
   ],
   "source": [
    "plt.plot(ann1.history['loss'])\n",
    "plt.plot(ann1.history['val_loss']) \n",
    "plt.title('Model loss') \n",
    "plt.ylabel('Loss') \n",
    "plt.xlabel('Epoch') \n",
    "plt.legend(['Train', 'Test'], loc='upper left') \n",
    "plt.show()\n"
   ]
  },
  {
   "cell_type": "markdown",
   "id": "ea9a6ee3-4903-48c9-b563-fbee83dd23ee",
   "metadata": {},
   "source": [
    "Skúsme predikovať výsledok, teda či odíde z banky človek, ktorý má nasledovné parametre:<br /><img src=\"http://mvi.mechatronika.cool/sites/default/files/obrazky/obrazok_cv4_11.png\" />"
   ]
  },
  {
   "cell_type": "markdown",
   "id": "70edc92a-a41f-4f6e-978b-757470e15399",
   "metadata": {},
   "source": [
    "Toto realizujeme pomocou kódu:"
   ]
  },
  {
   "cell_type": "code",
   "execution_count": 57,
   "id": "d89877e4-c472-4967-b4e6-1e95d54bd07f",
   "metadata": {},
   "outputs": [
    {
     "name": "stdout",
     "output_type": "stream",
     "text": [
      "1/1 [==============================] - 0s 57ms/step\n",
      "[[0.02944818]]\n"
     ]
    }
   ],
   "source": [
    "print(ann.predict(sc.transform([[1, 0, 0, 600, 1, 40, 3, 60000, 2, 1, 1, 50000]])))"
   ]
  },
  {
   "cell_type": "markdown",
   "id": "50b6df24-656b-41e6-add7-d2ade61e0d19",
   "metadata": {},
   "source": [
    "Ideme predikovať výsledky na základe testovacích dát. Predposledný riadok nám urobí to, že výsledky väčšie ako 0.5 označí ako <strong>True</strong> a ostatné ako <strong>False</strong>."
   ]
  },
  {
   "cell_type": "code",
   "execution_count": 58,
   "id": "ac56c9f6-106b-4546-ab20-3ee33cd8057d",
   "metadata": {},
   "outputs": [
    {
     "name": "stdout",
     "output_type": "stream",
     "text": [
      "63/63 [==============================] - 0s 718us/step\n",
      "[[0 0]\n",
      " [0 1]\n",
      " [0 0]\n",
      " ...\n",
      " [0 0]\n",
      " [0 0]\n",
      " [0 0]]\n"
     ]
    }
   ],
   "source": [
    "# Part 3 - Making the predictions and evaluating the model\n",
    "\n",
    "# Predicting the Test set results\n",
    "y_pred = ann.predict(X_test)\n",
    "y_pred = (y_pred > 0.5)\n",
    "print(np.concatenate((y_pred.reshape(len(y_pred),1), y_test.reshape(len(y_test),1)),1))"
   ]
  },
  {
   "cell_type": "markdown",
   "id": "497ebac6-9e02-4de5-98d5-8d821aeb4e72",
   "metadata": {},
   "source": [
    "Znovu vyrobíme confusion matrix. Kód potom spustíme a pozrieme obsah confusion matrix, ktorej obsahu sme sa naučili rozumieť pri logistickej regresii."
   ]
  },
  {
   "cell_type": "code",
   "execution_count": 59,
   "id": "950bbced-4a26-4aac-bad3-ab70994707d6",
   "metadata": {},
   "outputs": [
    {
     "name": "stdout",
     "output_type": "stream",
     "text": [
      "[[1509   86]\n",
      " [ 200  205]]\n"
     ]
    },
    {
     "data": {
      "text/plain": [
       "0.857"
      ]
     },
     "execution_count": 59,
     "metadata": {},
     "output_type": "execute_result"
    }
   ],
   "source": [
    "# Making the Confusion Matrix\n",
    "from sklearn.metrics import confusion_matrix, accuracy_score\n",
    "cm = confusion_matrix(y_test, y_pred)\n",
    "print (cm)\n",
    "accuracy_score(y_test, y_pred)"
   ]
  },
  {
   "cell_type": "markdown",
   "id": "192085a1-b4cb-4bd9-a1ee-243f3bab4301",
   "metadata": {},
   "source": [
    "Program je hotový. Prečítame si a <strong>splníme úlohu</strong> na konci nášho dokumentu k cvičeniu."
   ]
  },
  {
   "cell_type": "code",
   "execution_count": 60,
   "id": "974aef2d-218e-44f6-926f-dc8b8d12aee6",
   "metadata": {},
   "outputs": [
    {
     "name": "stdout",
     "output_type": "stream",
     "text": [
      "Epoch 1/100\n",
      "10/10 [==============================] - 1s 20ms/step - loss: 0.7088 - accuracy: 0.3700 - val_loss: 0.7115 - val_accuracy: 0.3200\n",
      "Epoch 2/100\n",
      "10/10 [==============================] - 0s 4ms/step - loss: 0.6917 - accuracy: 0.3833 - val_loss: 0.6924 - val_accuracy: 0.3200\n",
      "Epoch 3/100\n",
      "10/10 [==============================] - 0s 5ms/step - loss: 0.6761 - accuracy: 0.3933 - val_loss: 0.6751 - val_accuracy: 0.3500\n",
      "Epoch 4/100\n",
      "10/10 [==============================] - 0s 4ms/step - loss: 0.6620 - accuracy: 0.4367 - val_loss: 0.6599 - val_accuracy: 0.3700\n",
      "Epoch 5/100\n",
      "10/10 [==============================] - 0s 4ms/step - loss: 0.6508 - accuracy: 0.4500 - val_loss: 0.6462 - val_accuracy: 0.3900\n",
      "Epoch 6/100\n",
      "10/10 [==============================] - 0s 4ms/step - loss: 0.6401 - accuracy: 0.5067 - val_loss: 0.6348 - val_accuracy: 0.4600\n",
      "Epoch 7/100\n",
      "10/10 [==============================] - 0s 4ms/step - loss: 0.6313 - accuracy: 0.5267 - val_loss: 0.6249 - val_accuracy: 0.4700\n",
      "Epoch 8/100\n",
      "10/10 [==============================] - 0s 4ms/step - loss: 0.6233 - accuracy: 0.5633 - val_loss: 0.6160 - val_accuracy: 0.5300\n",
      "Epoch 9/100\n",
      "10/10 [==============================] - 0s 4ms/step - loss: 0.6162 - accuracy: 0.6100 - val_loss: 0.6077 - val_accuracy: 0.5400\n",
      "Epoch 10/100\n",
      "10/10 [==============================] - 0s 4ms/step - loss: 0.6096 - accuracy: 0.6300 - val_loss: 0.6003 - val_accuracy: 0.5700\n",
      "Epoch 11/100\n",
      "10/10 [==============================] - 0s 4ms/step - loss: 0.6034 - accuracy: 0.6467 - val_loss: 0.5932 - val_accuracy: 0.6300\n",
      "Epoch 12/100\n",
      "10/10 [==============================] - 0s 4ms/step - loss: 0.5976 - accuracy: 0.6733 - val_loss: 0.5865 - val_accuracy: 0.6800\n",
      "Epoch 13/100\n",
      "10/10 [==============================] - 0s 4ms/step - loss: 0.5922 - accuracy: 0.7033 - val_loss: 0.5803 - val_accuracy: 0.7300\n",
      "Epoch 14/100\n",
      "10/10 [==============================] - 0s 4ms/step - loss: 0.5872 - accuracy: 0.7533 - val_loss: 0.5742 - val_accuracy: 0.7400\n",
      "Epoch 15/100\n",
      "10/10 [==============================] - 0s 4ms/step - loss: 0.5822 - accuracy: 0.7867 - val_loss: 0.5685 - val_accuracy: 0.7900\n",
      "Epoch 16/100\n",
      "10/10 [==============================] - 0s 4ms/step - loss: 0.5777 - accuracy: 0.8167 - val_loss: 0.5631 - val_accuracy: 0.8300\n",
      "Epoch 17/100\n",
      "10/10 [==============================] - 0s 5ms/step - loss: 0.5732 - accuracy: 0.8333 - val_loss: 0.5581 - val_accuracy: 0.8400\n",
      "Epoch 18/100\n",
      "10/10 [==============================] - 0s 4ms/step - loss: 0.5689 - accuracy: 0.8500 - val_loss: 0.5529 - val_accuracy: 0.8700\n",
      "Epoch 19/100\n",
      "10/10 [==============================] - 0s 4ms/step - loss: 0.5646 - accuracy: 0.8533 - val_loss: 0.5480 - val_accuracy: 0.8900\n",
      "Epoch 20/100\n",
      "10/10 [==============================] - 0s 4ms/step - loss: 0.5602 - accuracy: 0.8533 - val_loss: 0.5428 - val_accuracy: 0.9000\n",
      "Epoch 21/100\n",
      "10/10 [==============================] - 0s 4ms/step - loss: 0.5558 - accuracy: 0.8633 - val_loss: 0.5377 - val_accuracy: 0.9000\n",
      "Epoch 22/100\n",
      "10/10 [==============================] - 0s 4ms/step - loss: 0.5514 - accuracy: 0.8833 - val_loss: 0.5325 - val_accuracy: 0.9300\n",
      "Epoch 23/100\n",
      "10/10 [==============================] - 0s 4ms/step - loss: 0.5467 - accuracy: 0.8967 - val_loss: 0.5273 - val_accuracy: 0.9300\n",
      "Epoch 24/100\n",
      "10/10 [==============================] - 0s 4ms/step - loss: 0.5420 - accuracy: 0.9000 - val_loss: 0.5220 - val_accuracy: 0.9300\n",
      "Epoch 25/100\n",
      "10/10 [==============================] - 0s 4ms/step - loss: 0.5371 - accuracy: 0.9033 - val_loss: 0.5165 - val_accuracy: 0.9300\n",
      "Epoch 26/100\n",
      "10/10 [==============================] - 0s 3ms/step - loss: 0.5319 - accuracy: 0.9033 - val_loss: 0.5110 - val_accuracy: 0.9400\n",
      "Epoch 27/100\n",
      "10/10 [==============================] - 0s 4ms/step - loss: 0.5266 - accuracy: 0.9033 - val_loss: 0.5051 - val_accuracy: 0.9400\n",
      "Epoch 28/100\n",
      "10/10 [==============================] - 0s 4ms/step - loss: 0.5214 - accuracy: 0.9033 - val_loss: 0.4991 - val_accuracy: 0.9300\n",
      "Epoch 29/100\n",
      "10/10 [==============================] - 0s 4ms/step - loss: 0.5159 - accuracy: 0.9033 - val_loss: 0.4928 - val_accuracy: 0.9300\n",
      "Epoch 30/100\n",
      "10/10 [==============================] - 0s 4ms/step - loss: 0.5104 - accuracy: 0.9033 - val_loss: 0.4868 - val_accuracy: 0.9300\n",
      "Epoch 31/100\n",
      "10/10 [==============================] - 0s 4ms/step - loss: 0.5051 - accuracy: 0.9033 - val_loss: 0.4807 - val_accuracy: 0.9300\n",
      "Epoch 32/100\n",
      "10/10 [==============================] - 0s 5ms/step - loss: 0.4994 - accuracy: 0.9033 - val_loss: 0.4746 - val_accuracy: 0.9300\n",
      "Epoch 33/100\n",
      "10/10 [==============================] - 0s 4ms/step - loss: 0.4939 - accuracy: 0.9033 - val_loss: 0.4685 - val_accuracy: 0.9300\n",
      "Epoch 34/100\n",
      "10/10 [==============================] - 0s 4ms/step - loss: 0.4883 - accuracy: 0.9000 - val_loss: 0.4624 - val_accuracy: 0.9300\n",
      "Epoch 35/100\n",
      "10/10 [==============================] - 0s 4ms/step - loss: 0.4830 - accuracy: 0.8967 - val_loss: 0.4562 - val_accuracy: 0.9300\n",
      "Epoch 36/100\n",
      "10/10 [==============================] - 0s 4ms/step - loss: 0.4773 - accuracy: 0.8933 - val_loss: 0.4503 - val_accuracy: 0.9300\n",
      "Epoch 37/100\n",
      "10/10 [==============================] - 0s 4ms/step - loss: 0.4719 - accuracy: 0.8933 - val_loss: 0.4442 - val_accuracy: 0.9300\n",
      "Epoch 38/100\n",
      "10/10 [==============================] - 0s 4ms/step - loss: 0.4665 - accuracy: 0.8933 - val_loss: 0.4383 - val_accuracy: 0.9300\n",
      "Epoch 39/100\n",
      "10/10 [==============================] - 0s 4ms/step - loss: 0.4611 - accuracy: 0.8933 - val_loss: 0.4325 - val_accuracy: 0.9300\n",
      "Epoch 40/100\n",
      "10/10 [==============================] - 0s 5ms/step - loss: 0.4557 - accuracy: 0.8933 - val_loss: 0.4265 - val_accuracy: 0.9300\n",
      "Epoch 41/100\n",
      "10/10 [==============================] - 0s 4ms/step - loss: 0.4506 - accuracy: 0.8933 - val_loss: 0.4205 - val_accuracy: 0.9300\n",
      "Epoch 42/100\n",
      "10/10 [==============================] - 0s 4ms/step - loss: 0.4452 - accuracy: 0.8967 - val_loss: 0.4145 - val_accuracy: 0.9300\n",
      "Epoch 43/100\n",
      "10/10 [==============================] - 0s 4ms/step - loss: 0.4399 - accuracy: 0.8967 - val_loss: 0.4087 - val_accuracy: 0.9300\n",
      "Epoch 44/100\n",
      "10/10 [==============================] - 0s 4ms/step - loss: 0.4347 - accuracy: 0.8967 - val_loss: 0.4031 - val_accuracy: 0.9300\n",
      "Epoch 45/100\n",
      "10/10 [==============================] - 0s 3ms/step - loss: 0.4301 - accuracy: 0.8933 - val_loss: 0.3978 - val_accuracy: 0.9300\n",
      "Epoch 46/100\n",
      "10/10 [==============================] - 0s 3ms/step - loss: 0.4249 - accuracy: 0.8967 - val_loss: 0.3924 - val_accuracy: 0.9300\n",
      "Epoch 47/100\n",
      "10/10 [==============================] - 0s 4ms/step - loss: 0.4202 - accuracy: 0.8967 - val_loss: 0.3867 - val_accuracy: 0.9300\n",
      "Epoch 48/100\n",
      "10/10 [==============================] - 0s 4ms/step - loss: 0.4151 - accuracy: 0.8933 - val_loss: 0.3813 - val_accuracy: 0.9300\n",
      "Epoch 49/100\n",
      "10/10 [==============================] - 0s 4ms/step - loss: 0.4099 - accuracy: 0.8967 - val_loss: 0.3760 - val_accuracy: 0.9300\n",
      "Epoch 50/100\n",
      "10/10 [==============================] - 0s 4ms/step - loss: 0.4052 - accuracy: 0.8933 - val_loss: 0.3707 - val_accuracy: 0.9300\n",
      "Epoch 51/100\n",
      "10/10 [==============================] - 0s 4ms/step - loss: 0.4006 - accuracy: 0.8933 - val_loss: 0.3657 - val_accuracy: 0.9200\n",
      "Epoch 52/100\n",
      "10/10 [==============================] - 0s 4ms/step - loss: 0.3960 - accuracy: 0.9000 - val_loss: 0.3608 - val_accuracy: 0.9200\n",
      "Epoch 53/100\n",
      "10/10 [==============================] - 0s 4ms/step - loss: 0.3915 - accuracy: 0.9000 - val_loss: 0.3559 - val_accuracy: 0.9200\n",
      "Epoch 54/100\n",
      "10/10 [==============================] - 0s 4ms/step - loss: 0.3869 - accuracy: 0.8967 - val_loss: 0.3508 - val_accuracy: 0.9200\n",
      "Epoch 55/100\n",
      "10/10 [==============================] - 0s 4ms/step - loss: 0.3828 - accuracy: 0.8967 - val_loss: 0.3460 - val_accuracy: 0.9200\n",
      "Epoch 56/100\n",
      "10/10 [==============================] - 0s 4ms/step - loss: 0.3784 - accuracy: 0.8967 - val_loss: 0.3413 - val_accuracy: 0.9200\n",
      "Epoch 57/100\n",
      "10/10 [==============================] - 0s 4ms/step - loss: 0.3741 - accuracy: 0.8967 - val_loss: 0.3367 - val_accuracy: 0.9200\n",
      "Epoch 58/100\n",
      "10/10 [==============================] - 0s 4ms/step - loss: 0.3698 - accuracy: 0.8967 - val_loss: 0.3319 - val_accuracy: 0.9200\n",
      "Epoch 59/100\n",
      "10/10 [==============================] - 0s 4ms/step - loss: 0.3655 - accuracy: 0.8967 - val_loss: 0.3272 - val_accuracy: 0.9200\n",
      "Epoch 60/100\n",
      "10/10 [==============================] - 0s 4ms/step - loss: 0.3611 - accuracy: 0.8933 - val_loss: 0.3227 - val_accuracy: 0.9200\n",
      "Epoch 61/100\n",
      "10/10 [==============================] - 0s 4ms/step - loss: 0.3572 - accuracy: 0.8933 - val_loss: 0.3182 - val_accuracy: 0.9200\n",
      "Epoch 62/100\n",
      "10/10 [==============================] - 0s 4ms/step - loss: 0.3532 - accuracy: 0.8933 - val_loss: 0.3138 - val_accuracy: 0.9200\n",
      "Epoch 63/100\n",
      "10/10 [==============================] - 0s 6ms/step - loss: 0.3495 - accuracy: 0.8933 - val_loss: 0.3095 - val_accuracy: 0.9200\n",
      "Epoch 64/100\n",
      "10/10 [==============================] - 0s 6ms/step - loss: 0.3459 - accuracy: 0.8933 - val_loss: 0.3057 - val_accuracy: 0.9200\n",
      "Epoch 65/100\n",
      "10/10 [==============================] - 0s 4ms/step - loss: 0.3419 - accuracy: 0.8967 - val_loss: 0.3017 - val_accuracy: 0.9200\n",
      "Epoch 66/100\n",
      "10/10 [==============================] - 0s 4ms/step - loss: 0.3385 - accuracy: 0.8933 - val_loss: 0.2977 - val_accuracy: 0.9200\n",
      "Epoch 67/100\n",
      "10/10 [==============================] - 0s 4ms/step - loss: 0.3349 - accuracy: 0.8933 - val_loss: 0.2940 - val_accuracy: 0.9200\n",
      "Epoch 68/100\n",
      "10/10 [==============================] - 0s 4ms/step - loss: 0.3316 - accuracy: 0.8933 - val_loss: 0.2904 - val_accuracy: 0.9200\n",
      "Epoch 69/100\n",
      "10/10 [==============================] - 0s 4ms/step - loss: 0.3288 - accuracy: 0.8967 - val_loss: 0.2872 - val_accuracy: 0.9200\n",
      "Epoch 70/100\n",
      "10/10 [==============================] - 0s 4ms/step - loss: 0.3248 - accuracy: 0.8967 - val_loss: 0.2839 - val_accuracy: 0.9200\n",
      "Epoch 71/100\n",
      "10/10 [==============================] - 0s 4ms/step - loss: 0.3220 - accuracy: 0.8967 - val_loss: 0.2805 - val_accuracy: 0.9200\n",
      "Epoch 72/100\n",
      "10/10 [==============================] - 0s 4ms/step - loss: 0.3187 - accuracy: 0.8967 - val_loss: 0.2774 - val_accuracy: 0.9200\n",
      "Epoch 73/100\n",
      "10/10 [==============================] - 0s 3ms/step - loss: 0.3159 - accuracy: 0.8967 - val_loss: 0.2745 - val_accuracy: 0.9200\n",
      "Epoch 74/100\n",
      "10/10 [==============================] - 0s 3ms/step - loss: 0.3129 - accuracy: 0.8967 - val_loss: 0.2718 - val_accuracy: 0.9200\n",
      "Epoch 75/100\n",
      "10/10 [==============================] - 0s 4ms/step - loss: 0.3105 - accuracy: 0.8967 - val_loss: 0.2688 - val_accuracy: 0.9200\n",
      "Epoch 76/100\n",
      "10/10 [==============================] - 0s 4ms/step - loss: 0.3078 - accuracy: 0.9000 - val_loss: 0.2662 - val_accuracy: 0.9200\n",
      "Epoch 77/100\n",
      "10/10 [==============================] - 0s 4ms/step - loss: 0.3052 - accuracy: 0.9000 - val_loss: 0.2639 - val_accuracy: 0.9200\n",
      "Epoch 78/100\n",
      "10/10 [==============================] - 0s 3ms/step - loss: 0.3031 - accuracy: 0.9000 - val_loss: 0.2615 - val_accuracy: 0.9200\n",
      "Epoch 79/100\n",
      "10/10 [==============================] - 0s 4ms/step - loss: 0.3009 - accuracy: 0.9000 - val_loss: 0.2595 - val_accuracy: 0.9200\n",
      "Epoch 80/100\n",
      "10/10 [==============================] - 0s 4ms/step - loss: 0.2989 - accuracy: 0.9000 - val_loss: 0.2575 - val_accuracy: 0.9200\n",
      "Epoch 81/100\n",
      "10/10 [==============================] - 0s 4ms/step - loss: 0.2971 - accuracy: 0.9000 - val_loss: 0.2557 - val_accuracy: 0.9200\n",
      "Epoch 82/100\n",
      "10/10 [==============================] - 0s 4ms/step - loss: 0.2950 - accuracy: 0.9000 - val_loss: 0.2537 - val_accuracy: 0.9200\n",
      "Epoch 83/100\n",
      "10/10 [==============================] - 0s 4ms/step - loss: 0.2934 - accuracy: 0.9000 - val_loss: 0.2521 - val_accuracy: 0.9200\n",
      "Epoch 84/100\n",
      "10/10 [==============================] - 0s 4ms/step - loss: 0.2915 - accuracy: 0.9000 - val_loss: 0.2503 - val_accuracy: 0.9200\n",
      "Epoch 85/100\n",
      "10/10 [==============================] - 0s 4ms/step - loss: 0.2898 - accuracy: 0.9000 - val_loss: 0.2487 - val_accuracy: 0.9200\n",
      "Epoch 86/100\n",
      "10/10 [==============================] - 0s 4ms/step - loss: 0.2884 - accuracy: 0.9000 - val_loss: 0.2469 - val_accuracy: 0.9200\n",
      "Epoch 87/100\n",
      "10/10 [==============================] - 0s 4ms/step - loss: 0.2869 - accuracy: 0.9000 - val_loss: 0.2457 - val_accuracy: 0.9200\n",
      "Epoch 88/100\n",
      "10/10 [==============================] - 0s 4ms/step - loss: 0.2853 - accuracy: 0.9033 - val_loss: 0.2442 - val_accuracy: 0.9200\n",
      "Epoch 89/100\n",
      "10/10 [==============================] - 0s 4ms/step - loss: 0.2838 - accuracy: 0.9033 - val_loss: 0.2429 - val_accuracy: 0.9200\n",
      "Epoch 90/100\n",
      "10/10 [==============================] - 0s 4ms/step - loss: 0.2825 - accuracy: 0.9033 - val_loss: 0.2416 - val_accuracy: 0.9200\n",
      "Epoch 91/100\n",
      "10/10 [==============================] - 0s 4ms/step - loss: 0.2813 - accuracy: 0.9033 - val_loss: 0.2404 - val_accuracy: 0.9200\n",
      "Epoch 92/100\n",
      "10/10 [==============================] - 0s 4ms/step - loss: 0.2801 - accuracy: 0.9033 - val_loss: 0.2392 - val_accuracy: 0.9200\n",
      "Epoch 93/100\n",
      "10/10 [==============================] - 0s 3ms/step - loss: 0.2789 - accuracy: 0.9033 - val_loss: 0.2381 - val_accuracy: 0.9200\n",
      "Epoch 94/100\n",
      "10/10 [==============================] - 0s 3ms/step - loss: 0.2780 - accuracy: 0.9033 - val_loss: 0.2371 - val_accuracy: 0.9200\n",
      "Epoch 95/100\n",
      "10/10 [==============================] - 0s 4ms/step - loss: 0.2769 - accuracy: 0.9033 - val_loss: 0.2361 - val_accuracy: 0.9200\n",
      "Epoch 96/100\n",
      "10/10 [==============================] - 0s 4ms/step - loss: 0.2761 - accuracy: 0.9033 - val_loss: 0.2354 - val_accuracy: 0.9200\n",
      "Epoch 97/100\n",
      "10/10 [==============================] - 0s 4ms/step - loss: 0.2750 - accuracy: 0.9033 - val_loss: 0.2346 - val_accuracy: 0.9200\n",
      "Epoch 98/100\n",
      "10/10 [==============================] - 0s 4ms/step - loss: 0.2741 - accuracy: 0.9033 - val_loss: 0.2339 - val_accuracy: 0.9200\n",
      "Epoch 99/100\n",
      "10/10 [==============================] - 0s 3ms/step - loss: 0.2732 - accuracy: 0.9033 - val_loss: 0.2331 - val_accuracy: 0.9200\n",
      "Epoch 100/100\n",
      "10/10 [==============================] - 0s 4ms/step - loss: 0.2725 - accuracy: 0.9033 - val_loss: 0.2325 - val_accuracy: 0.9200\n"
     ]
    },
    {
     "data": {
      "image/png": "[encoded data removed]",
      "text/plain": [
       "<Figure size 640x480 with 1 Axes>"
      ]
     },
     "metadata": {},
     "output_type": "display_data"
    },
    {
     "name": "stdout",
     "output_type": "stream",
     "text": [
      "4/4 [==============================] - 0s 999us/step\n",
      "[[0 0]\n",
      " [0 0]\n",
      " [0 0]\n",
      " [0 0]\n",
      " [0 0]\n",
      " [0 0]\n",
      " [0 0]\n",
      " [1 1]\n",
      " [0 0]\n",
      " [1 0]\n",
      " [0 0]\n",
      " [0 0]\n",
      " [0 0]\n",
      " [0 0]\n",
      " [0 0]\n",
      " [1 0]\n",
      " [0 0]\n",
      " [0 0]\n",
      " [1 1]\n",
      " [0 0]\n",
      " [0 0]\n",
      " [1 1]\n",
      " [0 0]\n",
      " [1 1]\n",
      " [0 0]\n",
      " [1 1]\n",
      " [0 0]\n",
      " [0 0]\n",
      " [0 0]\n",
      " [0 0]\n",
      " [0 0]\n",
      " [0 1]\n",
      " [1 1]\n",
      " [0 0]\n",
      " [0 0]\n",
      " [0 0]\n",
      " [0 0]\n",
      " [0 0]\n",
      " [0 0]\n",
      " [1 1]\n",
      " [0 0]\n",
      " [0 0]\n",
      " [0 0]\n",
      " [0 0]\n",
      " [1 1]\n",
      " [0 0]\n",
      " [0 0]\n",
      " [1 1]\n",
      " [0 0]\n",
      " [1 1]\n",
      " [1 1]\n",
      " [0 0]\n",
      " [0 0]\n",
      " [1 0]\n",
      " [1 1]\n",
      " [1 1]\n",
      " [0 0]\n",
      " [0 0]\n",
      " [1 1]\n",
      " [0 0]\n",
      " [0 0]\n",
      " [1 1]\n",
      " [0 0]\n",
      " [0 1]\n",
      " [0 0]\n",
      " [1 1]\n",
      " [0 0]\n",
      " [0 0]\n",
      " [0 0]\n",
      " [0 0]\n",
      " [1 1]\n",
      " [0 0]\n",
      " [0 0]\n",
      " [1 1]\n",
      " [0 0]\n",
      " [0 0]\n",
      " [0 0]\n",
      " [0 0]\n",
      " [1 1]\n",
      " [1 1]\n",
      " [1 1]\n",
      " [1 0]\n",
      " [0 0]\n",
      " [0 0]\n",
      " [1 1]\n",
      " [0 1]\n",
      " [0 0]\n",
      " [1 1]\n",
      " [1 1]\n",
      " [0 0]\n",
      " [0 0]\n",
      " [1 1]\n",
      " [0 0]\n",
      " [0 0]\n",
      " [0 0]\n",
      " [0 1]\n",
      " [0 0]\n",
      " [1 1]\n",
      " [1 1]\n",
      " [1 1]]\n",
      "Confusion Matrix pre Social_Network_Ads - Umela Neuronova Siet:\n",
      "[[64  4]\n",
      " [ 4 28]]\n",
      "Accuracy: 0.92\n",
      "\n"
     ]
    }
   ],
   "source": [
    "# 2. Dataset: Social_Network_Ads.csv - Umela Neuronova Siet\n",
    "# Nacitanie datasetu\n",
    "dataset_ads = pd.read_csv(\"Social_Network_Ads.csv\")\n",
    "X_ads = dataset_ads.iloc[:, [2, 3]].values\n",
    "y_ads = dataset_ads.iloc[:, 4].values\n",
    "\n",
    "# Rozdelenie datasetu na trenovaciu a testovaciu mnozinu\n",
    "X_train_ads, X_test_ads, y_train_ads, y_test_ads = train_test_split(\n",
    "    X_ads, y_ads, test_size=0.25, random_state=0\n",
    ")\n",
    "\n",
    "# Feature Scaling\n",
    "sc_ads = StandardScaler()\n",
    "X_train_ads = sc_ads.fit_transform(X_train_ads)\n",
    "X_test_ads = sc_ads.transform(X_test_ads)\n",
    "\n",
    "# Inicializacia ANN\n",
    "ann_ads = tf.keras.models.Sequential()\n",
    "ann_ads.add(tf.keras.layers.Dense(units=6, activation=\"relu\", input_dim=2))\n",
    "ann_ads.add(tf.keras.layers.Dense(units=6, activation=\"relu\"))\n",
    "ann_ads.add(tf.keras.layers.Dense(units=1, activation=\"sigmoid\"))\n",
    "\n",
    "# Kompilacia ANN\n",
    "ann_ads.compile(optimizer=\"adam\", loss=\"binary_crossentropy\", metrics=[\"accuracy\"])\n",
    "\n",
    "# Trening ANN\n",
    "ann_history_ads = ann_ads.fit(\n",
    "    X_train_ads,\n",
    "    y_train_ads,\n",
    "    validation_data=(X_test_ads, y_test_ads),\n",
    "    batch_size=32,\n",
    "    epochs=100,\n",
    ")\n",
    "\n",
    "# Graf trenovania pre ANN\n",
    "plt.plot(ann_history_ads.history[\"accuracy\"])\n",
    "plt.plot(ann_history_ads.history[\"val_accuracy\"])\n",
    "plt.title(\"Model Accuracy - Social_Network_Ads ANN\")\n",
    "plt.ylabel(\"Accuracy\")\n",
    "plt.xlabel(\"Epoch\")\n",
    "plt.legend([\"Train\", \"Test\"], loc=\"upper left\")\n",
    "plt.show()\n",
    "\n",
    "# Predikcia vysledkov pre testovaciu mnozinu pomocou ANN\n",
    "y_pred_ads_ann = ann_ads.predict(X_test_ads)\n",
    "y_pred_ads_ann = y_pred_ads_ann > 0.5\n",
    "print(\n",
    "    np.concatenate(\n",
    "        (\n",
    "            y_pred_ads_ann.reshape(len(y_pred_ads_ann), 1),\n",
    "            y_test_ads.reshape(len(y_test_ads), 1),\n",
    "        ),\n",
    "        1,\n",
    "    )\n",
    ")\n",
    "\n",
    "# Confusion Matrix a accuracy score pre ANN\n",
    "cm_ads_ann = confusion_matrix(y_test_ads, y_pred_ads_ann)\n",
    "accuracy_ads_ann = accuracy_score(y_test_ads, y_pred_ads_ann)\n",
    "print(\"Confusion Matrix pre Social_Network_Ads - Umela Neuronova Siet:\")\n",
    "print(cm_ads_ann)\n",
    "print(f\"Accuracy: {accuracy_ads_ann}\\n\")"
   ]
  }
 ],
 "metadata": {
  "kernelspec": {
   "display_name": "Python 3",
   "language": "python",
   "name": "python3"
  },
  "language_info": {
   "codemirror_mode": {
    "name": "ipython",
    "version": 3
   },
   "file_extension": ".py",
   "mimetype": "text/x-python",
   "name": "python",
   "nbconvert_exporter": "python",
   "pygments_lexer": "ipython3",
   "version": "3.10.0"
  }
 },
 "nbformat": 4,
 "nbformat_minor": 5
}
