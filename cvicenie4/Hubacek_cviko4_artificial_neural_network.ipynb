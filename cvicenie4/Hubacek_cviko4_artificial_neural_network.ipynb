{
 "cells": [
  {
   "cell_type": "markdown",
   "id": "31b986bc-5705-4b2a-b89a-5942e9f87671",
   "metadata": {},
   "source": [
    "<h2>UMELÉ NEURÓNOVÉ SIETE</h2>"
   ]
  },
  {
   "cell_type": "markdown",
   "id": "dfab4f33-ad3f-4679-953e-85eef1922332",
   "metadata": {},
   "source": [
    "Zo stránky https://www.superdatascience.com/machine-learning/ stiahneme súbor <strong>Machine Learning A-Z (Codes and Datasets).zip</strong>."
   ]
  },
  {
   "cell_type": "markdown",
   "id": "87fa0322-7c48-4f3f-84a2-479d9782c6d6",
   "metadata": {},
   "source": [
    "Z tohto archívu nás zaujíma súbor <strong>Churn_Modelling.csv</strong>, nájdeme v ňom teda tento súbor (je v <em>Part 8: Deep Learning - Section 39 - Artificial Neural Networks (ANN)</em>). Dáme ho do priečinka, kde sa nachádza aj tento notebook (ipynb súbor). Budú teda v tom istom priečinku. Nakoľko csv súbory Excel nie vždy otvára správne, otvoríme ho priamo v JupyterLab alebo Google Colab alebo online pomocou stránky https://limonte.github.io/csv-viewer-online/ ."
   ]
  },
  {
   "cell_type": "markdown",
   "id": "3840db12-7ac0-4423-8362-49c7661c6c13",
   "metadata": {},
   "source": [
    "V tejto tabuľke sa nachádzajú údaje o klientoch banky. Závislou premennou je fakt, či daný klient banky z nej neskôr odišiel alebo nie. Ide teda o typický príklad problému klasifikácie do 2 tried. Pokročilou metódou klasifikácie je využitie umelých neurónových sietí."
   ]
  },
  {
   "cell_type": "markdown",
   "id": "c7f10359-071a-4abf-aaad-edb29ce79ac8",
   "metadata": {},
   "source": [
    "Nasleduje inštalácia knižníc, ktorú nerobíme, ak pracujeme s Google Colab."
   ]
  },
  {
   "cell_type": "markdown",
   "id": "71795070-a7f3-43db-ac36-0f7ec3c94ba4",
   "metadata": {},
   "source": [
    "Potrebujeme najprv nainštalovať knižnicu <strong>Theano</strong>, ktorá je určená pre numerické operácie, podobne ako Numpy, ktorú sme už používali. Výhodou je, že vie na tieto operácie využiť aj GPU."
   ]
  },
  {
   "cell_type": "markdown",
   "id": "bb7a58ab-2e01-401c-b0cc-3fd2b676963e",
   "metadata": {},
   "source": [
    "Otvoríme si teda balíčkový systém Anacondy, vyhľadáme Theano a nainštalujeme ho (keby nám ho nenašlo, zatlačíme <em>Update index</em>):<br /><img src=\"http://mvi.mechatronika.cool/sites/default/files/obrazky/obrazok_cv4_3.png\" />"
   ]
  },
  {
   "cell_type": "markdown",
   "id": "536372f9-81e0-4f4a-8d58-6d7319ed4af9",
   "metadata": {},
   "source": [
    "Potrebujeme nainštalovať knižnicu <strong>Tensorflow</strong>, o ktorej si môžeme viac prečítať na webe. Práca s ňou je pomerne zložitá a je vhodná na výskum. Prejdeme teda podobným spôsobom na balíčkový systém Anacondy a vyberieme TensorFlow <em>(verziu pre CPU, nakoľko GPU verzia môže požadovať inštaláciu CUDA a ďalších komponentov)</em>:<br /><img src=\"http://mvi.mechatronika.cool/sites/default/files/obrazky/obrazok_cv4_4.png\" />"
   ]
  },
  {
   "cell_type": "markdown",
   "id": "7281bd82-84aa-4381-a46e-7bdf890e7953",
   "metadata": {},
   "source": [
    "Nainštalujeme pomocou Anaconda balíčkového systému knižnicu <strong>Keras</strong>, ktorá slúži na zjednodušenú tvorbu neurónových sietí pomocou Tensorflow::<br /><img src=\"http://mvi.mechatronika.cool/sites/default/files/obrazky/obrazok_cv4_5.png\" />"
   ]
  },
  {
   "cell_type": "markdown",
   "id": "c664f58d-fa70-455d-800a-a17f97de561a",
   "metadata": {},
   "source": [
    "Spustíme kód, ktorý nám importuje potrebné knižnice a vypíše, akú máme nainštalovanú verziu Tensorflow. Toto už robíme aj v prípade, že pracujeme s Google Colab."
   ]
  },
  {
   "cell_type": "code",
   "execution_count": 1,
   "id": "c471875c-131a-4917-9692-9dad5445f2a9",
   "metadata": {},
   "outputs": [
    {
     "data": {
      "text/plain": [
       "'2.10.1'"
      ]
     },
     "execution_count": 1,
     "metadata": {},
     "output_type": "execute_result"
    }
   ],
   "source": [
    "# Importing the libraries\n",
    "import numpy as np\n",
    "import pandas as pd\n",
    "import tensorflow as tf\n",
    "tf.__version__"
   ]
  },
  {
   "cell_type": "markdown",
   "id": "e490d0bd-e93a-4f5a-a9fc-6f94b8383e68",
   "metadata": {},
   "source": [
    "Importujeme náš dataset. Vidíme, že je logické, že prvé 3 stĺpce, ako sú <em>RowNumber</em>, <em>CustomerId</em> a <em>Surname</em> nám nijakým spôsobom nemôžu vplývať na výstup. Preto berieme do úvahy v premennej <strong><em>X</em></strong> len stĺpce s indexom 3 až 12. Riadok s <strong><em>y</em></strong> musíme logicky upraviť nasledovne, keďže závislé údaje sú v stĺpci s indexom 13:"
   ]
  },
  {
   "cell_type": "code",
   "execution_count": 2,
   "id": "68b8aba9-f02f-4cdd-8e31-278fbe26f2f2",
   "metadata": {},
   "outputs": [],
   "source": [
    "# Importing the dataset\n",
    "dataset = pd.read_csv('Churn_Modelling.csv')\n",
    "X = dataset.iloc[:, 3:13].values\n",
    "y = dataset.iloc[:, 13].values"
   ]
  },
  {
   "cell_type": "markdown",
   "id": "0e246f1e-f319-4262-a3d3-e740d0fb2bf3",
   "metadata": {},
   "source": [
    "Po tomto kóde pridáme kód na spracovanie kategorických dát. Vidíme, že potrebujeme spracovať pohlavie <em>Male / Female</em>. Toto nám stačí prepísať na 0 / 1. Využijeme teda <em>LabelEncoder</em>."
   ]
  },
  {
   "cell_type": "code",
   "execution_count": 3,
   "id": "e0ab931d-aad9-41c4-be39-8819efec1fd9",
   "metadata": {},
   "outputs": [],
   "source": [
    "# Encoding categorical data\n",
    "from sklearn.preprocessing import LabelEncoder\n",
    "le = LabelEncoder()\n",
    "X[:,2] = le.fit_transform(X[:, 2])"
   ]
  },
  {
   "cell_type": "markdown",
   "id": "f8b12779-05fc-403a-a139-3268c1a294e8",
   "metadata": {},
   "source": [
    "Po tomto kóde pridáme ďalší kód na spracovanie kategorických dát. Vidíme, že potrebujeme nejakým spôsobom spracovať krajiny, ktoré máme 3. Keďže medzi nimi neexistuje žiaden vzťah, ktorý by sa týkal ich poradia a sú 3, tak použijeme <em>OneHotEncoder</em>:"
   ]
  },
  {
   "cell_type": "code",
   "execution_count": 4,
   "id": "9fcfe95b-d714-476f-b3fc-8e65e208f84e",
   "metadata": {},
   "outputs": [],
   "source": [
    "# One Hot Encoding the \"Geography\" column\n",
    "from sklearn.compose import ColumnTransformer\n",
    "from sklearn.preprocessing import OneHotEncoder\n",
    "ct = ColumnTransformer(transformers=[('encoder', OneHotEncoder(), [1])], remainder='passthrough')\n",
    "X = np.array(ct.fit_transform(X))"
   ]
  },
  {
   "cell_type": "markdown",
   "id": "d629541f-5cdd-4acb-9b0f-9c386a68d923",
   "metadata": {},
   "source": [
    "Realizujeme škálovanie (<em>Feature Scaling</em>) našich nezávislých premenných, pričom zahrnieme všetky:"
   ]
  },
  {
   "cell_type": "code",
   "execution_count": 5,
   "id": "703f5a70-5476-451d-9fa0-a2b8822b05bf",
   "metadata": {},
   "outputs": [],
   "source": [
    "# Feature Scaling\n",
    "from sklearn.preprocessing import StandardScaler\n",
    "sc = StandardScaler()\n",
    "X = sc.fit_transform(X)"
   ]
  },
  {
   "cell_type": "markdown",
   "id": "d8f71901-7025-4dac-83dd-0fad3a73216f",
   "metadata": {},
   "source": [
    "Riadok s rozdeľovaním dát na trénovacie a testovacie zadáme tak, aby testovacie dáta tvorili pätinu datasetu:"
   ]
  },
  {
   "cell_type": "code",
   "execution_count": 6,
   "id": "00fc56bd-69c0-4a45-9ef1-ce5d58afeacf",
   "metadata": {},
   "outputs": [],
   "source": [
    "# Splitting the dataset into the Training set and Test set\n",
    "from sklearn.model_selection import train_test_split\n",
    "X_train, X_test, y_train, y_test = train_test_split(X, y, test_size = 0.2, random_state = 0)"
   ]
  },
  {
   "cell_type": "markdown",
   "id": "6bb9f826-05ce-42b1-9aad-a5d94a624fb9",
   "metadata": {},
   "source": [
    "Práca s neurónovou sieťou pozostáva z nasledovných krokov.\n",
    "<br /><img src=\"http://mvi.mechatronika.cool/sites/default/files/obrazky/obrazok_cv4_6.png\" />\n",
    "<br /><img src=\"http://mvi.mechatronika.cool/sites/default/files/obrazky/obrazok_cv4_7.png\" />\n",
    "<br /><img src=\"http://mvi.mechatronika.cool/sites/default/files/obrazky/obrazok_cv4_8.png\" />\n",
    "<br /><img src=\"http://mvi.mechatronika.cool/sites/default/files/obrazky/obrazok_cv4_9.png\" />\n",
    "<br /><img src=\"http://mvi.mechatronika.cool/sites/default/files/obrazky/obrazok_cv4_10.png\" />"
   ]
  },
  {
   "cell_type": "markdown",
   "id": "bb0073cb-9728-43a2-b589-e764b9af1d73",
   "metadata": {},
   "source": [
    "Inicializujeme neurónovú sieť:"
   ]
  },
  {
   "cell_type": "code",
   "execution_count": 7,
   "id": "c77e1e51-eee1-4935-a2bc-c98863a8abca",
   "metadata": {},
   "outputs": [],
   "source": [
    "# Initialising the ANN\n",
    "ann = tf.keras.models.Sequential()"
   ]
  },
  {
   "cell_type": "markdown",
   "id": "8fcb193d-2e3f-4a72-a7d6-88bcd95598d5",
   "metadata": {},
   "source": [
    "Pridáme prvú vrstvu, teda vstupnú vrstvu, kde počet neurónov bude taký, aký máme počet našich príznakov, teda nezávislých premenných, čo vidíme v <em>input dimension</em> nastavených na 12. Toto je nepovinný parameter a automaticky by sa nám nastavil na 12. Typ vrstvy je <em>Dense</em>, čo je plne prepojená vrstva. Ako aktivačnú funkciu sme si vybrali <strong><em>relu</em></strong>, ktorá je na vstupnú vrstvu vhodná. Zároveň pridávame týmto aj prvú skrytú vrstvu, ktorej dávame 6 neurónov. Môže sa táto logika zdať zvláštna, že pomocou jedného príkazu pridávame 2 vrstvy, ale je to tak. Toto číslo môžeme neskôr skusmo meniť:"
   ]
  },
  {
   "cell_type": "code",
   "execution_count": 8,
   "id": "9429adb1-7a2e-41b6-b8fe-5a395b9fb773",
   "metadata": {},
   "outputs": [],
   "source": [
    "# Adding the input layer and the first hidden layer\n",
    "ann.add(tf.keras.layers.Dense(units=6, activation='relu', input_dim=12))"
   ]
  },
  {
   "cell_type": "markdown",
   "id": "3a3c3355-db40-41b4-8bcb-2138ec67743c",
   "metadata": {},
   "source": [
    "Pridáme ďalšiu skrytú vrstvu:"
   ]
  },
  {
   "cell_type": "code",
   "execution_count": 9,
   "id": "4d104532-67a5-4f6a-8060-f59f953d5ae3",
   "metadata": {},
   "outputs": [],
   "source": [
    "# Adding the second hidden layer\n",
    "ann.add(tf.keras.layers.Dense(units=6, activation='relu'))"
   ]
  },
  {
   "cell_type": "markdown",
   "id": "5fcc3c8e-b47d-4eb0-a889-d74c26f41519",
   "metadata": {},
   "source": [
    "Pridáme výstupnú vrstvu, kde počet výstupných neurónov bude 1, nakoľko výstupná vrstva nám bude určovať, či zákazník z banky odišiel alebo nie, čo je binárny výstup 0 alebo 1. Aktivačná funkcia je do výstupnej funkcie vhodná <em><strong>sigmoid</em></strong>. Ak by sme mali viac kategórií, tak je vhodné využiť <em><strong>softmax</em></strong>."
   ]
  },
  {
   "cell_type": "code",
   "execution_count": 10,
   "id": "6a57fcfb-57c0-4380-a78c-4ab5803a7858",
   "metadata": {},
   "outputs": [],
   "source": [
    "# Adding the output layer\n",
    "ann.add(tf.keras.layers.Dense(units=1, activation='sigmoid'))"
   ]
  },
  {
   "cell_type": "markdown",
   "id": "b0f11e7c-e38a-47db-a202-fe04955a1ece",
   "metadata": {},
   "source": [
    "Neurónovú sieť skompilujeme. Loss nastavujeme na <em><strong>binary_crossentropy</em></strong>, nakoľko máme binárny výstup. Ak by sme mali viac kategórií, tak využijeme <em><strong>categorical_crossentropy</em></strong>."
   ]
  },
  {
   "cell_type": "code",
   "execution_count": 11,
   "id": "9433ef4c-f9e7-4ac8-b556-03bfdcbbf0f1",
   "metadata": {},
   "outputs": [],
   "source": [
    "# Compiling the ANN\n",
    "ann.compile(optimizer = 'adam', loss = 'binary_crossentropy', metrics = ['accuracy'])"
   ]
  },
  {
   "cell_type": "markdown",
   "id": "7b869518-8bda-4c3b-a45e-bc1f83874ac2",
   "metadata": {},
   "source": [
    "Neurónovú sieť natrénujeme, počet epoch nastavíme na 100. Nezabudnime, že ak chceme skúšať sieť s inými parametrami, tak musíme zmazať všetky dáta v pamäti, ktoré sa týkajú neurónovej siete a spustiť jej inicializáciu znova, nakoľko to vyzerá, že JupyterLab si pamätá predošlé natrénovanie:"
   ]
  },
  {
   "cell_type": "code",
   "execution_count": 12,
   "id": "f0df8b7f-5994-4e59-a410-dca007bebcc9",
   "metadata": {},
   "outputs": [
    {
     "name": "stdout",
     "output_type": "stream",
     "text": [
      "Epoch 1/100\n",
      "250/250 [==============================] - 1s 2ms/step - loss: 0.6824 - accuracy: 0.6286 - val_loss: 0.6116 - val_accuracy: 0.7990\n",
      "Epoch 2/100\n",
      "250/250 [==============================] - 0s 1ms/step - loss: 0.5173 - accuracy: 0.7961 - val_loss: 0.4600 - val_accuracy: 0.8030\n",
      "Epoch 3/100\n",
      "250/250 [==============================] - 0s 1ms/step - loss: 0.4374 - accuracy: 0.8130 - val_loss: 0.4271 - val_accuracy: 0.8180\n",
      "Epoch 4/100\n",
      "250/250 [==============================] - 0s 1ms/step - loss: 0.4179 - accuracy: 0.8165 - val_loss: 0.4119 - val_accuracy: 0.8145\n",
      "Epoch 5/100\n",
      "250/250 [==============================] - 0s 1ms/step - loss: 0.4039 - accuracy: 0.8166 - val_loss: 0.3981 - val_accuracy: 0.8220\n",
      "Epoch 6/100\n",
      "250/250 [==============================] - 0s 1ms/step - loss: 0.3917 - accuracy: 0.8273 - val_loss: 0.3871 - val_accuracy: 0.8355\n",
      "Epoch 7/100\n",
      "250/250 [==============================] - 0s 1ms/step - loss: 0.3813 - accuracy: 0.8363 - val_loss: 0.3768 - val_accuracy: 0.8390\n",
      "Epoch 8/100\n",
      "250/250 [==============================] - 0s 1ms/step - loss: 0.3726 - accuracy: 0.8428 - val_loss: 0.3669 - val_accuracy: 0.8450\n",
      "Epoch 9/100\n",
      "250/250 [==============================] - 0s 1ms/step - loss: 0.3668 - accuracy: 0.8450 - val_loss: 0.3643 - val_accuracy: 0.8460\n",
      "Epoch 10/100\n",
      "250/250 [==============================] - 0s 1ms/step - loss: 0.3630 - accuracy: 0.8461 - val_loss: 0.3580 - val_accuracy: 0.8460\n",
      "Epoch 11/100\n",
      "250/250 [==============================] - 0s 1ms/step - loss: 0.3600 - accuracy: 0.8475 - val_loss: 0.3565 - val_accuracy: 0.8450\n",
      "Epoch 12/100\n",
      "250/250 [==============================] - 0s 1ms/step - loss: 0.3580 - accuracy: 0.8490 - val_loss: 0.3561 - val_accuracy: 0.8455\n",
      "Epoch 13/100\n",
      "250/250 [==============================] - 0s 1ms/step - loss: 0.3561 - accuracy: 0.8508 - val_loss: 0.3534 - val_accuracy: 0.8490\n",
      "Epoch 14/100\n",
      "250/250 [==============================] - 0s 1ms/step - loss: 0.3544 - accuracy: 0.8504 - val_loss: 0.3508 - val_accuracy: 0.8500\n",
      "Epoch 15/100\n",
      "250/250 [==============================] - 0s 1ms/step - loss: 0.3529 - accuracy: 0.8512 - val_loss: 0.3500 - val_accuracy: 0.8505\n",
      "Epoch 16/100\n",
      "250/250 [==============================] - 0s 1ms/step - loss: 0.3515 - accuracy: 0.8531 - val_loss: 0.3468 - val_accuracy: 0.8550\n",
      "Epoch 17/100\n",
      "250/250 [==============================] - 0s 1ms/step - loss: 0.3504 - accuracy: 0.8537 - val_loss: 0.3468 - val_accuracy: 0.8550\n",
      "Epoch 18/100\n",
      "250/250 [==============================] - 0s 1ms/step - loss: 0.3488 - accuracy: 0.8550 - val_loss: 0.3464 - val_accuracy: 0.8545\n",
      "Epoch 19/100\n",
      "250/250 [==============================] - 0s 1ms/step - loss: 0.3479 - accuracy: 0.8540 - val_loss: 0.3447 - val_accuracy: 0.8580\n",
      "Epoch 20/100\n",
      "250/250 [==============================] - 0s 1ms/step - loss: 0.3469 - accuracy: 0.8555 - val_loss: 0.3439 - val_accuracy: 0.8570\n",
      "Epoch 21/100\n",
      "250/250 [==============================] - 0s 1ms/step - loss: 0.3460 - accuracy: 0.8568 - val_loss: 0.3431 - val_accuracy: 0.8575\n",
      "Epoch 22/100\n",
      "250/250 [==============================] - 0s 1ms/step - loss: 0.3449 - accuracy: 0.8570 - val_loss: 0.3430 - val_accuracy: 0.8570\n",
      "Epoch 23/100\n",
      "250/250 [==============================] - 0s 1ms/step - loss: 0.3441 - accuracy: 0.8591 - val_loss: 0.3425 - val_accuracy: 0.8580\n",
      "Epoch 24/100\n",
      "250/250 [==============================] - 0s 1ms/step - loss: 0.3436 - accuracy: 0.8579 - val_loss: 0.3409 - val_accuracy: 0.8585\n",
      "Epoch 25/100\n",
      "250/250 [==============================] - 0s 1ms/step - loss: 0.3426 - accuracy: 0.8587 - val_loss: 0.3402 - val_accuracy: 0.8595\n",
      "Epoch 26/100\n",
      "250/250 [==============================] - 0s 1ms/step - loss: 0.3418 - accuracy: 0.8600 - val_loss: 0.3390 - val_accuracy: 0.8605\n",
      "Epoch 27/100\n",
      "250/250 [==============================] - 0s 1ms/step - loss: 0.3413 - accuracy: 0.8600 - val_loss: 0.3396 - val_accuracy: 0.8575\n",
      "Epoch 28/100\n",
      "250/250 [==============================] - 0s 1ms/step - loss: 0.3409 - accuracy: 0.8587 - val_loss: 0.3403 - val_accuracy: 0.8600\n",
      "Epoch 29/100\n",
      "250/250 [==============================] - 0s 1ms/step - loss: 0.3402 - accuracy: 0.8611 - val_loss: 0.3376 - val_accuracy: 0.8615\n",
      "Epoch 30/100\n",
      "250/250 [==============================] - 0s 1ms/step - loss: 0.3393 - accuracy: 0.8618 - val_loss: 0.3379 - val_accuracy: 0.8580\n",
      "Epoch 31/100\n",
      "250/250 [==============================] - 0s 1ms/step - loss: 0.3393 - accuracy: 0.8625 - val_loss: 0.3413 - val_accuracy: 0.8600\n",
      "Epoch 32/100\n",
      "250/250 [==============================] - 0s 1ms/step - loss: 0.3389 - accuracy: 0.8616 - val_loss: 0.3394 - val_accuracy: 0.8595\n",
      "Epoch 33/100\n",
      "250/250 [==============================] - 0s 1ms/step - loss: 0.3388 - accuracy: 0.8621 - val_loss: 0.3355 - val_accuracy: 0.8605\n",
      "Epoch 34/100\n",
      "250/250 [==============================] - 0s 1ms/step - loss: 0.3381 - accuracy: 0.8620 - val_loss: 0.3374 - val_accuracy: 0.8585\n",
      "Epoch 35/100\n",
      "250/250 [==============================] - 0s 1ms/step - loss: 0.3378 - accuracy: 0.8620 - val_loss: 0.3389 - val_accuracy: 0.8575\n",
      "Epoch 36/100\n",
      "250/250 [==============================] - 0s 1ms/step - loss: 0.3375 - accuracy: 0.8634 - val_loss: 0.3359 - val_accuracy: 0.8615\n",
      "Epoch 37/100\n",
      "250/250 [==============================] - 0s 1ms/step - loss: 0.3376 - accuracy: 0.8622 - val_loss: 0.3389 - val_accuracy: 0.8575\n",
      "Epoch 38/100\n",
      "250/250 [==============================] - 0s 1ms/step - loss: 0.3371 - accuracy: 0.8641 - val_loss: 0.3372 - val_accuracy: 0.8610\n",
      "Epoch 39/100\n",
      "250/250 [==============================] - 0s 1ms/step - loss: 0.3365 - accuracy: 0.8620 - val_loss: 0.3360 - val_accuracy: 0.8625\n",
      "Epoch 40/100\n",
      "250/250 [==============================] - 0s 1ms/step - loss: 0.3369 - accuracy: 0.8639 - val_loss: 0.3366 - val_accuracy: 0.8625\n",
      "Epoch 41/100\n",
      "250/250 [==============================] - 0s 1ms/step - loss: 0.3365 - accuracy: 0.8629 - val_loss: 0.3355 - val_accuracy: 0.8615\n",
      "Epoch 42/100\n",
      "250/250 [==============================] - 0s 1ms/step - loss: 0.3361 - accuracy: 0.8627 - val_loss: 0.3365 - val_accuracy: 0.8610\n",
      "Epoch 43/100\n",
      "250/250 [==============================] - 0s 1ms/step - loss: 0.3365 - accuracy: 0.8620 - val_loss: 0.3373 - val_accuracy: 0.8600\n",
      "Epoch 44/100\n",
      "250/250 [==============================] - 0s 1ms/step - loss: 0.3361 - accuracy: 0.8634 - val_loss: 0.3359 - val_accuracy: 0.8615\n",
      "Epoch 45/100\n",
      "250/250 [==============================] - 0s 1ms/step - loss: 0.3359 - accuracy: 0.8634 - val_loss: 0.3346 - val_accuracy: 0.8630\n",
      "Epoch 46/100\n",
      "250/250 [==============================] - 0s 1ms/step - loss: 0.3355 - accuracy: 0.8645 - val_loss: 0.3402 - val_accuracy: 0.8615\n",
      "Epoch 47/100\n",
      "250/250 [==============================] - 0s 1ms/step - loss: 0.3359 - accuracy: 0.8634 - val_loss: 0.3355 - val_accuracy: 0.8615\n",
      "Epoch 48/100\n",
      "250/250 [==============================] - 0s 1ms/step - loss: 0.3355 - accuracy: 0.8631 - val_loss: 0.3345 - val_accuracy: 0.8615\n",
      "Epoch 49/100\n",
      "250/250 [==============================] - 0s 2ms/step - loss: 0.3354 - accuracy: 0.8633 - val_loss: 0.3352 - val_accuracy: 0.8620\n",
      "Epoch 50/100\n",
      "250/250 [==============================] - 0s 1ms/step - loss: 0.3355 - accuracy: 0.8645 - val_loss: 0.3345 - val_accuracy: 0.8650\n",
      "Epoch 51/100\n",
      "250/250 [==============================] - 0s 1ms/step - loss: 0.3354 - accuracy: 0.8626 - val_loss: 0.3353 - val_accuracy: 0.8610\n",
      "Epoch 52/100\n",
      "250/250 [==============================] - 0s 1ms/step - loss: 0.3351 - accuracy: 0.8643 - val_loss: 0.3349 - val_accuracy: 0.8610\n",
      "Epoch 53/100\n",
      "250/250 [==============================] - 0s 1ms/step - loss: 0.3352 - accuracy: 0.8636 - val_loss: 0.3349 - val_accuracy: 0.8610\n",
      "Epoch 54/100\n",
      "250/250 [==============================] - 0s 1ms/step - loss: 0.3350 - accuracy: 0.8645 - val_loss: 0.3364 - val_accuracy: 0.8610\n",
      "Epoch 55/100\n",
      "250/250 [==============================] - 0s 1ms/step - loss: 0.3349 - accuracy: 0.8646 - val_loss: 0.3358 - val_accuracy: 0.8635\n",
      "Epoch 56/100\n",
      "250/250 [==============================] - 0s 1ms/step - loss: 0.3345 - accuracy: 0.8646 - val_loss: 0.3360 - val_accuracy: 0.8630\n",
      "Epoch 57/100\n",
      "250/250 [==============================] - 0s 1ms/step - loss: 0.3349 - accuracy: 0.8633 - val_loss: 0.3353 - val_accuracy: 0.8615\n",
      "Epoch 58/100\n",
      "250/250 [==============================] - 0s 1ms/step - loss: 0.3347 - accuracy: 0.8639 - val_loss: 0.3334 - val_accuracy: 0.8650\n",
      "Epoch 59/100\n",
      "250/250 [==============================] - 0s 1ms/step - loss: 0.3344 - accuracy: 0.8643 - val_loss: 0.3344 - val_accuracy: 0.8630\n",
      "Epoch 60/100\n",
      "250/250 [==============================] - 0s 1ms/step - loss: 0.3347 - accuracy: 0.8641 - val_loss: 0.3329 - val_accuracy: 0.8630\n",
      "Epoch 61/100\n",
      "250/250 [==============================] - 0s 1ms/step - loss: 0.3342 - accuracy: 0.8636 - val_loss: 0.3333 - val_accuracy: 0.8625\n",
      "Epoch 62/100\n",
      "250/250 [==============================] - 0s 1ms/step - loss: 0.3339 - accuracy: 0.8635 - val_loss: 0.3327 - val_accuracy: 0.8635\n",
      "Epoch 63/100\n",
      "250/250 [==============================] - 0s 1ms/step - loss: 0.3338 - accuracy: 0.8643 - val_loss: 0.3340 - val_accuracy: 0.8625\n",
      "Epoch 64/100\n",
      "250/250 [==============================] - 0s 1ms/step - loss: 0.3340 - accuracy: 0.8640 - val_loss: 0.3333 - val_accuracy: 0.8620\n",
      "Epoch 65/100\n",
      "250/250 [==============================] - 0s 1ms/step - loss: 0.3337 - accuracy: 0.8639 - val_loss: 0.3320 - val_accuracy: 0.8640\n",
      "Epoch 66/100\n",
      "250/250 [==============================] - 0s 1ms/step - loss: 0.3340 - accuracy: 0.8633 - val_loss: 0.3332 - val_accuracy: 0.8625\n",
      "Epoch 67/100\n",
      "250/250 [==============================] - 0s 1ms/step - loss: 0.3335 - accuracy: 0.8658 - val_loss: 0.3326 - val_accuracy: 0.8630\n",
      "Epoch 68/100\n",
      "250/250 [==============================] - 0s 1ms/step - loss: 0.3337 - accuracy: 0.8658 - val_loss: 0.3343 - val_accuracy: 0.8615\n",
      "Epoch 69/100\n",
      "250/250 [==============================] - 0s 1ms/step - loss: 0.3336 - accuracy: 0.8655 - val_loss: 0.3357 - val_accuracy: 0.8620\n",
      "Epoch 70/100\n",
      "250/250 [==============================] - 0s 1ms/step - loss: 0.3333 - accuracy: 0.8641 - val_loss: 0.3345 - val_accuracy: 0.8620\n",
      "Epoch 71/100\n",
      "250/250 [==============================] - 0s 1ms/step - loss: 0.3334 - accuracy: 0.8650 - val_loss: 0.3337 - val_accuracy: 0.8610\n",
      "Epoch 72/100\n",
      "250/250 [==============================] - 0s 1ms/step - loss: 0.3331 - accuracy: 0.8660 - val_loss: 0.3357 - val_accuracy: 0.8615\n",
      "Epoch 73/100\n",
      "250/250 [==============================] - 0s 1ms/step - loss: 0.3330 - accuracy: 0.8648 - val_loss: 0.3334 - val_accuracy: 0.8635\n",
      "Epoch 74/100\n",
      "250/250 [==============================] - 0s 1ms/step - loss: 0.3329 - accuracy: 0.8651 - val_loss: 0.3319 - val_accuracy: 0.8615\n",
      "Epoch 75/100\n",
      "250/250 [==============================] - 0s 1ms/step - loss: 0.3328 - accuracy: 0.8655 - val_loss: 0.3335 - val_accuracy: 0.8605\n",
      "Epoch 76/100\n",
      "250/250 [==============================] - 0s 1ms/step - loss: 0.3324 - accuracy: 0.8625 - val_loss: 0.3332 - val_accuracy: 0.8635\n",
      "Epoch 77/100\n",
      "250/250 [==============================] - 0s 1ms/step - loss: 0.3332 - accuracy: 0.8658 - val_loss: 0.3336 - val_accuracy: 0.8620\n",
      "Epoch 78/100\n",
      "250/250 [==============================] - 0s 1ms/step - loss: 0.3326 - accuracy: 0.8639 - val_loss: 0.3334 - val_accuracy: 0.8635\n",
      "Epoch 79/100\n",
      "250/250 [==============================] - 0s 1ms/step - loss: 0.3323 - accuracy: 0.8660 - val_loss: 0.3333 - val_accuracy: 0.8625\n",
      "Epoch 80/100\n",
      "250/250 [==============================] - 0s 1ms/step - loss: 0.3323 - accuracy: 0.8660 - val_loss: 0.3340 - val_accuracy: 0.8615\n",
      "Epoch 81/100\n",
      "250/250 [==============================] - 0s 1ms/step - loss: 0.3325 - accuracy: 0.8649 - val_loss: 0.3341 - val_accuracy: 0.8600\n",
      "Epoch 82/100\n",
      "250/250 [==============================] - 0s 1ms/step - loss: 0.3323 - accuracy: 0.8637 - val_loss: 0.3324 - val_accuracy: 0.8620\n",
      "Epoch 83/100\n",
      "250/250 [==============================] - 0s 1ms/step - loss: 0.3317 - accuracy: 0.8654 - val_loss: 0.3323 - val_accuracy: 0.8630\n",
      "Epoch 84/100\n",
      "250/250 [==============================] - 0s 1ms/step - loss: 0.3318 - accuracy: 0.8652 - val_loss: 0.3347 - val_accuracy: 0.8595\n",
      "Epoch 85/100\n",
      "250/250 [==============================] - 0s 1ms/step - loss: 0.3318 - accuracy: 0.8659 - val_loss: 0.3315 - val_accuracy: 0.8625\n",
      "Epoch 86/100\n",
      "250/250 [==============================] - 0s 1ms/step - loss: 0.3313 - accuracy: 0.8659 - val_loss: 0.3311 - val_accuracy: 0.8630\n",
      "Epoch 87/100\n",
      "250/250 [==============================] - 0s 1ms/step - loss: 0.3316 - accuracy: 0.8656 - val_loss: 0.3328 - val_accuracy: 0.8610\n",
      "Epoch 88/100\n",
      "250/250 [==============================] - 0s 1ms/step - loss: 0.3311 - accuracy: 0.8656 - val_loss: 0.3331 - val_accuracy: 0.8630\n",
      "Epoch 89/100\n",
      "250/250 [==============================] - 0s 1ms/step - loss: 0.3310 - accuracy: 0.8652 - val_loss: 0.3318 - val_accuracy: 0.8630\n",
      "Epoch 90/100\n",
      "250/250 [==============================] - 0s 1ms/step - loss: 0.3317 - accuracy: 0.8650 - val_loss: 0.3328 - val_accuracy: 0.8635\n",
      "Epoch 91/100\n",
      "250/250 [==============================] - 0s 1ms/step - loss: 0.3309 - accuracy: 0.8661 - val_loss: 0.3324 - val_accuracy: 0.8635\n",
      "Epoch 92/100\n",
      "250/250 [==============================] - 0s 1ms/step - loss: 0.3309 - accuracy: 0.8670 - val_loss: 0.3303 - val_accuracy: 0.8635\n",
      "Epoch 93/100\n",
      "250/250 [==============================] - 0s 1ms/step - loss: 0.3308 - accuracy: 0.8645 - val_loss: 0.3325 - val_accuracy: 0.8635\n",
      "Epoch 94/100\n",
      "250/250 [==============================] - 0s 1ms/step - loss: 0.3312 - accuracy: 0.8637 - val_loss: 0.3330 - val_accuracy: 0.8630\n",
      "Epoch 95/100\n",
      "250/250 [==============================] - 0s 1ms/step - loss: 0.3311 - accuracy: 0.8658 - val_loss: 0.3356 - val_accuracy: 0.8580\n",
      "Epoch 96/100\n",
      "250/250 [==============================] - 0s 1ms/step - loss: 0.3303 - accuracy: 0.8658 - val_loss: 0.3312 - val_accuracy: 0.8630\n",
      "Epoch 97/100\n",
      "250/250 [==============================] - 0s 1ms/step - loss: 0.3305 - accuracy: 0.8659 - val_loss: 0.3326 - val_accuracy: 0.8625\n",
      "Epoch 98/100\n",
      "250/250 [==============================] - 0s 1ms/step - loss: 0.3301 - accuracy: 0.8661 - val_loss: 0.3325 - val_accuracy: 0.8625\n",
      "Epoch 99/100\n",
      "250/250 [==============================] - 0s 1ms/step - loss: 0.3299 - accuracy: 0.8658 - val_loss: 0.3327 - val_accuracy: 0.8630\n",
      "Epoch 100/100\n",
      "250/250 [==============================] - 0s 1ms/step - loss: 0.3299 - accuracy: 0.8676 - val_loss: 0.3319 - val_accuracy: 0.8615\n"
     ]
    }
   ],
   "source": [
    "# Fitting the ANN to the Training set\n",
    "ann1 = ann.fit(X_train, y_train, validation_data = (X_test, y_test),  batch_size = 32, epochs = 100)"
   ]
  },
  {
   "cell_type": "markdown",
   "id": "695b2e14-f957-4505-a31c-9e66cbc8a214",
   "metadata": {},
   "source": [
    "Program spustíme a sledujeme priebeh trénovania."
   ]
  },
  {
   "cell_type": "markdown",
   "id": "b9bb57d4-8f22-4f91-9672-b44f56361af7",
   "metadata": {},
   "source": [
    "Zobrazíme si priebeh trénovania neurónovej siete pomocou zobrazenia presnosti. <em>Accuracy</em> je presnosť pre trénovaciu množinu a <em>val_accuracy</em> je presnosť pre testovaciu (validačnú) množinu. Ak je presnosť pre trénovaciu množinu veľmi vysoká, avšak nízka pre testovaciu, znamená to, že sieť je pretrénovaná (<strong>overfitting</strong>)."
   ]
  },
  {
   "cell_type": "code",
   "execution_count": 13,
   "id": "5c485c88-ed7c-4ea6-a8f1-2e0cccc9b32b",
   "metadata": {},
   "outputs": [
    {
     "data": {
      "image/png": "[encoded data removed]",
      "text/plain": [
       "<Figure size 640x480 with 1 Axes>"
      ]
     },
     "metadata": {},
     "output_type": "display_data"
    }
   ],
   "source": [
    "import matplotlib.pyplot as plt\n",
    "plt.plot(ann1.history['accuracy'])\n",
    "plt.plot(ann1.history['val_accuracy'])\n",
    "plt.title('Model accuracy')\n",
    "plt.ylabel('Accuracy')\n",
    "plt.xlabel('Epoch')\n",
    "plt.legend(['Train', 'Test'], loc='upper left')\n",
    "plt.show()"
   ]
  },
  {
   "cell_type": "markdown",
   "id": "b41fa1d3-e166-4462-ae0f-83b16e31deb9",
   "metadata": {},
   "source": [
    "Zobrazíme si priebeh trénovania neurónovej siete pomocou zobrazenia loss:"
   ]
  },
  {
   "cell_type": "code",
   "execution_count": 14,
   "id": "585c9788-a698-48eb-b5e7-64d7c67e288d",
   "metadata": {},
   "outputs": [
    {
     "data": {
      "image/png": "[encoded data removed]",
      "text/plain": [
       "<Figure size 640x480 with 1 Axes>"
      ]
     },
     "metadata": {},
     "output_type": "display_data"
    }
   ],
   "source": [
    "plt.plot(ann1.history['loss'])\n",
    "plt.plot(ann1.history['val_loss']) \n",
    "plt.title('Model loss') \n",
    "plt.ylabel('Loss') \n",
    "plt.xlabel('Epoch') \n",
    "plt.legend(['Train', 'Test'], loc='upper left') \n",
    "plt.show()\n"
   ]
  },
  {
   "cell_type": "markdown",
   "id": "ea9a6ee3-4903-48c9-b563-fbee83dd23ee",
   "metadata": {},
   "source": [
    "Skúsme predikovať výsledok, teda či odíde z banky človek, ktorý má nasledovné parametre:<br /><img src=\"http://mvi.mechatronika.cool/sites/default/files/obrazky/obrazok_cv4_11.png\" />"
   ]
  },
  {
   "cell_type": "markdown",
   "id": "70edc92a-a41f-4f6e-978b-757470e15399",
   "metadata": {},
   "source": [
    "Toto realizujeme pomocou kódu:"
   ]
  },
  {
   "cell_type": "code",
   "execution_count": 15,
   "id": "d89877e4-c472-4967-b4e6-1e95d54bd07f",
   "metadata": {},
   "outputs": [
    {
     "name": "stdout",
     "output_type": "stream",
     "text": [
      "1/1 [==============================] - 0s 81ms/step\n",
      "[[0.02812665]]\n"
     ]
    }
   ],
   "source": [
    "print(ann.predict(sc.transform([[1, 0, 0, 600, 1, 40, 3, 60000, 2, 1, 1, 50000]])))"
   ]
  },
  {
   "cell_type": "markdown",
   "id": "50b6df24-656b-41e6-add7-d2ade61e0d19",
   "metadata": {},
   "source": [
    "Ideme predikovať výsledky na základe testovacích dát. Predposledný riadok nám urobí to, že výsledky väčšie ako 0.5 označí ako <strong>True</strong> a ostatné ako <strong>False</strong>."
   ]
  },
  {
   "cell_type": "code",
   "execution_count": 16,
   "id": "ac56c9f6-106b-4546-ab20-3ee33cd8057d",
   "metadata": {},
   "outputs": [
    {
     "name": "stdout",
     "output_type": "stream",
     "text": [
      "63/63 [==============================] - 0s 720us/step\n",
      "[[0 0]\n",
      " [0 1]\n",
      " [0 0]\n",
      " ...\n",
      " [0 0]\n",
      " [0 0]\n",
      " [0 0]]\n"
     ]
    }
   ],
   "source": [
    "# Part 3 - Making the predictions and evaluating the model\n",
    "\n",
    "# Predicting the Test set results\n",
    "y_pred = ann.predict(X_test)\n",
    "y_pred = (y_pred > 0.5)\n",
    "print(np.concatenate((y_pred.reshape(len(y_pred),1), y_test.reshape(len(y_test),1)),1))"
   ]
  },
  {
   "cell_type": "markdown",
   "id": "497ebac6-9e02-4de5-98d5-8d821aeb4e72",
   "metadata": {},
   "source": [
    "Znovu vyrobíme confusion matrix. Kód potom spustíme a pozrieme obsah confusion matrix, ktorej obsahu sme sa naučili rozumieť pri logistickej regresii."
   ]
  },
  {
   "cell_type": "code",
   "execution_count": 17,
   "id": "950bbced-4a26-4aac-bad3-ab70994707d6",
   "metadata": {},
   "outputs": [
    {
     "name": "stdout",
     "output_type": "stream",
     "text": [
      "[[1513   82]\n",
      " [ 195  210]]\n"
     ]
    },
    {
     "data": {
      "text/plain": [
       "0.8615"
      ]
     },
     "execution_count": 17,
     "metadata": {},
     "output_type": "execute_result"
    }
   ],
   "source": [
    "# Making the Confusion Matrix\n",
    "from sklearn.metrics import confusion_matrix, accuracy_score\n",
    "cm = confusion_matrix(y_test, y_pred)\n",
    "print (cm)\n",
    "accuracy_score(y_test, y_pred)"
   ]
  },
  {
   "cell_type": "markdown",
   "id": "192085a1-b4cb-4bd9-a1ee-243f3bab4301",
   "metadata": {},
   "source": [
    "Program je hotový. Prečítame si a <strong>splníme úlohu</strong> na konci nášho dokumentu k cvičeniu."
   ]
  },
  {
   "cell_type": "code",
   "execution_count": 18,
   "id": "974aef2d-218e-44f6-926f-dc8b8d12aee6",
   "metadata": {},
   "outputs": [
    {
     "name": "stdout",
     "output_type": "stream",
     "text": [
      "Epoch 1/100\n",
      "10/10 [==============================] - 1s 16ms/step - loss: 0.6669 - accuracy: 0.7367 - val_loss: 0.6342 - val_accuracy: 0.8000\n",
      "Epoch 2/100\n",
      "10/10 [==============================] - 0s 4ms/step - loss: 0.6545 - accuracy: 0.7433 - val_loss: 0.6198 - val_accuracy: 0.8000\n",
      "Epoch 3/100\n",
      "10/10 [==============================] - 0s 4ms/step - loss: 0.6415 - accuracy: 0.7567 - val_loss: 0.6058 - val_accuracy: 0.8000\n",
      "Epoch 4/100\n",
      "10/10 [==============================] - 0s 4ms/step - loss: 0.6282 - accuracy: 0.7633 - val_loss: 0.5892 - val_accuracy: 0.8000\n",
      "Epoch 5/100\n",
      "10/10 [==============================] - 0s 4ms/step - loss: 0.6134 - accuracy: 0.7600 - val_loss: 0.5713 - val_accuracy: 0.8100\n",
      "Epoch 6/100\n",
      "10/10 [==============================] - 0s 4ms/step - loss: 0.5971 - accuracy: 0.7633 - val_loss: 0.5530 - val_accuracy: 0.8100\n",
      "Epoch 7/100\n",
      "10/10 [==============================] - 0s 4ms/step - loss: 0.5803 - accuracy: 0.7633 - val_loss: 0.5336 - val_accuracy: 0.8100\n",
      "Epoch 8/100\n",
      "10/10 [==============================] - 0s 4ms/step - loss: 0.5639 - accuracy: 0.7700 - val_loss: 0.5129 - val_accuracy: 0.8200\n",
      "Epoch 9/100\n",
      "10/10 [==============================] - 0s 4ms/step - loss: 0.5474 - accuracy: 0.7700 - val_loss: 0.4937 - val_accuracy: 0.8200\n",
      "Epoch 10/100\n",
      "10/10 [==============================] - 0s 4ms/step - loss: 0.5321 - accuracy: 0.7700 - val_loss: 0.4754 - val_accuracy: 0.8200\n",
      "Epoch 11/100\n",
      "10/10 [==============================] - 0s 4ms/step - loss: 0.5169 - accuracy: 0.7767 - val_loss: 0.4589 - val_accuracy: 0.8100\n",
      "Epoch 12/100\n",
      "10/10 [==============================] - 0s 4ms/step - loss: 0.5021 - accuracy: 0.7767 - val_loss: 0.4433 - val_accuracy: 0.8200\n",
      "Epoch 13/100\n",
      "10/10 [==============================] - 0s 4ms/step - loss: 0.4889 - accuracy: 0.7833 - val_loss: 0.4274 - val_accuracy: 0.8300\n",
      "Epoch 14/100\n",
      "10/10 [==============================] - 0s 4ms/step - loss: 0.4738 - accuracy: 0.7833 - val_loss: 0.4108 - val_accuracy: 0.8300\n",
      "Epoch 15/100\n",
      "10/10 [==============================] - 0s 4ms/step - loss: 0.4578 - accuracy: 0.7833 - val_loss: 0.3945 - val_accuracy: 0.8600\n",
      "Epoch 16/100\n",
      "10/10 [==============================] - 0s 4ms/step - loss: 0.4420 - accuracy: 0.8167 - val_loss: 0.3795 - val_accuracy: 0.8800\n",
      "Epoch 17/100\n",
      "10/10 [==============================] - 0s 4ms/step - loss: 0.4277 - accuracy: 0.8533 - val_loss: 0.3652 - val_accuracy: 0.8900\n",
      "Epoch 18/100\n",
      "10/10 [==============================] - 0s 4ms/step - loss: 0.4141 - accuracy: 0.8667 - val_loss: 0.3523 - val_accuracy: 0.8900\n",
      "Epoch 19/100\n",
      "10/10 [==============================] - 0s 4ms/step - loss: 0.4024 - accuracy: 0.8700 - val_loss: 0.3396 - val_accuracy: 0.9100\n",
      "Epoch 20/100\n",
      "10/10 [==============================] - 0s 4ms/step - loss: 0.3910 - accuracy: 0.8800 - val_loss: 0.3284 - val_accuracy: 0.9100\n",
      "Epoch 21/100\n",
      "10/10 [==============================] - 0s 4ms/step - loss: 0.3800 - accuracy: 0.8900 - val_loss: 0.3180 - val_accuracy: 0.9100\n",
      "Epoch 22/100\n",
      "10/10 [==============================] - 0s 4ms/step - loss: 0.3701 - accuracy: 0.8933 - val_loss: 0.3080 - val_accuracy: 0.9200\n",
      "Epoch 23/100\n",
      "10/10 [==============================] - 0s 4ms/step - loss: 0.3607 - accuracy: 0.8933 - val_loss: 0.2992 - val_accuracy: 0.9200\n",
      "Epoch 24/100\n",
      "10/10 [==============================] - 0s 4ms/step - loss: 0.3521 - accuracy: 0.8933 - val_loss: 0.2909 - val_accuracy: 0.9200\n",
      "Epoch 25/100\n",
      "10/10 [==============================] - 0s 4ms/step - loss: 0.3438 - accuracy: 0.8967 - val_loss: 0.2836 - val_accuracy: 0.9300\n",
      "Epoch 26/100\n",
      "10/10 [==============================] - 0s 4ms/step - loss: 0.3367 - accuracy: 0.8967 - val_loss: 0.2767 - val_accuracy: 0.9300\n",
      "Epoch 27/100\n",
      "10/10 [==============================] - 0s 3ms/step - loss: 0.3303 - accuracy: 0.8967 - val_loss: 0.2704 - val_accuracy: 0.9300\n",
      "Epoch 28/100\n",
      "10/10 [==============================] - 0s 4ms/step - loss: 0.3239 - accuracy: 0.8933 - val_loss: 0.2647 - val_accuracy: 0.9300\n",
      "Epoch 29/100\n",
      "10/10 [==============================] - 0s 3ms/step - loss: 0.3181 - accuracy: 0.8900 - val_loss: 0.2597 - val_accuracy: 0.9300\n",
      "Epoch 30/100\n",
      "10/10 [==============================] - 0s 4ms/step - loss: 0.3131 - accuracy: 0.8900 - val_loss: 0.2553 - val_accuracy: 0.9300\n",
      "Epoch 31/100\n",
      "10/10 [==============================] - 0s 4ms/step - loss: 0.3086 - accuracy: 0.8900 - val_loss: 0.2510 - val_accuracy: 0.9300\n",
      "Epoch 32/100\n",
      "10/10 [==============================] - 0s 4ms/step - loss: 0.3039 - accuracy: 0.8900 - val_loss: 0.2477 - val_accuracy: 0.9300\n",
      "Epoch 33/100\n",
      "10/10 [==============================] - 0s 4ms/step - loss: 0.3000 - accuracy: 0.8933 - val_loss: 0.2445 - val_accuracy: 0.9300\n",
      "Epoch 34/100\n",
      "10/10 [==============================] - 0s 4ms/step - loss: 0.2963 - accuracy: 0.8933 - val_loss: 0.2414 - val_accuracy: 0.9300\n",
      "Epoch 35/100\n",
      "10/10 [==============================] - 0s 4ms/step - loss: 0.2930 - accuracy: 0.8933 - val_loss: 0.2386 - val_accuracy: 0.9300\n",
      "Epoch 36/100\n",
      "10/10 [==============================] - 0s 4ms/step - loss: 0.2898 - accuracy: 0.8967 - val_loss: 0.2361 - val_accuracy: 0.9300\n",
      "Epoch 37/100\n",
      "10/10 [==============================] - 0s 4ms/step - loss: 0.2871 - accuracy: 0.8967 - val_loss: 0.2338 - val_accuracy: 0.9300\n",
      "Epoch 38/100\n",
      "10/10 [==============================] - 0s 4ms/step - loss: 0.2845 - accuracy: 0.8967 - val_loss: 0.2317 - val_accuracy: 0.9300\n",
      "Epoch 39/100\n",
      "10/10 [==============================] - 0s 4ms/step - loss: 0.2819 - accuracy: 0.8967 - val_loss: 0.2299 - val_accuracy: 0.9300\n",
      "Epoch 40/100\n",
      "10/10 [==============================] - 0s 4ms/step - loss: 0.2797 - accuracy: 0.8967 - val_loss: 0.2282 - val_accuracy: 0.9300\n",
      "Epoch 41/100\n",
      "10/10 [==============================] - 0s 4ms/step - loss: 0.2776 - accuracy: 0.9000 - val_loss: 0.2265 - val_accuracy: 0.9300\n",
      "Epoch 42/100\n",
      "10/10 [==============================] - 0s 3ms/step - loss: 0.2758 - accuracy: 0.9000 - val_loss: 0.2249 - val_accuracy: 0.9300\n",
      "Epoch 43/100\n",
      "10/10 [==============================] - 0s 4ms/step - loss: 0.2742 - accuracy: 0.9000 - val_loss: 0.2237 - val_accuracy: 0.9300\n",
      "Epoch 44/100\n",
      "10/10 [==============================] - 0s 4ms/step - loss: 0.2729 - accuracy: 0.9000 - val_loss: 0.2222 - val_accuracy: 0.9300\n",
      "Epoch 45/100\n",
      "10/10 [==============================] - 0s 4ms/step - loss: 0.2711 - accuracy: 0.8967 - val_loss: 0.2212 - val_accuracy: 0.9300\n",
      "Epoch 46/100\n",
      "10/10 [==============================] - 0s 4ms/step - loss: 0.2696 - accuracy: 0.8967 - val_loss: 0.2202 - val_accuracy: 0.9300\n",
      "Epoch 47/100\n",
      "10/10 [==============================] - 0s 4ms/step - loss: 0.2683 - accuracy: 0.9000 - val_loss: 0.2193 - val_accuracy: 0.9300\n",
      "Epoch 48/100\n",
      "10/10 [==============================] - 0s 4ms/step - loss: 0.2672 - accuracy: 0.9000 - val_loss: 0.2187 - val_accuracy: 0.9300\n",
      "Epoch 49/100\n",
      "10/10 [==============================] - 0s 3ms/step - loss: 0.2663 - accuracy: 0.9033 - val_loss: 0.2179 - val_accuracy: 0.9300\n",
      "Epoch 50/100\n",
      "10/10 [==============================] - 0s 4ms/step - loss: 0.2652 - accuracy: 0.9033 - val_loss: 0.2169 - val_accuracy: 0.9300\n",
      "Epoch 51/100\n",
      "10/10 [==============================] - 0s 6ms/step - loss: 0.2641 - accuracy: 0.9033 - val_loss: 0.2163 - val_accuracy: 0.9300\n",
      "Epoch 52/100\n",
      "10/10 [==============================] - 0s 4ms/step - loss: 0.2633 - accuracy: 0.9033 - val_loss: 0.2155 - val_accuracy: 0.9300\n",
      "Epoch 53/100\n",
      "10/10 [==============================] - 0s 3ms/step - loss: 0.2623 - accuracy: 0.9033 - val_loss: 0.2151 - val_accuracy: 0.9300\n",
      "Epoch 54/100\n",
      "10/10 [==============================] - 0s 4ms/step - loss: 0.2615 - accuracy: 0.9033 - val_loss: 0.2146 - val_accuracy: 0.9300\n",
      "Epoch 55/100\n",
      "10/10 [==============================] - 0s 4ms/step - loss: 0.2609 - accuracy: 0.9033 - val_loss: 0.2143 - val_accuracy: 0.9400\n",
      "Epoch 56/100\n",
      "10/10 [==============================] - 0s 4ms/step - loss: 0.2602 - accuracy: 0.9033 - val_loss: 0.2139 - val_accuracy: 0.9400\n",
      "Epoch 57/100\n",
      "10/10 [==============================] - 0s 4ms/step - loss: 0.2599 - accuracy: 0.9033 - val_loss: 0.2133 - val_accuracy: 0.9400\n",
      "Epoch 58/100\n",
      "10/10 [==============================] - 0s 4ms/step - loss: 0.2587 - accuracy: 0.9033 - val_loss: 0.2128 - val_accuracy: 0.9400\n",
      "Epoch 59/100\n",
      "10/10 [==============================] - 0s 4ms/step - loss: 0.2580 - accuracy: 0.9033 - val_loss: 0.2126 - val_accuracy: 0.9400\n",
      "Epoch 60/100\n",
      "10/10 [==============================] - 0s 4ms/step - loss: 0.2574 - accuracy: 0.9000 - val_loss: 0.2123 - val_accuracy: 0.9400\n",
      "Epoch 61/100\n",
      "10/10 [==============================] - 0s 4ms/step - loss: 0.2570 - accuracy: 0.9000 - val_loss: 0.2119 - val_accuracy: 0.9400\n",
      "Epoch 62/100\n",
      "10/10 [==============================] - 0s 4ms/step - loss: 0.2564 - accuracy: 0.9000 - val_loss: 0.2116 - val_accuracy: 0.9400\n",
      "Epoch 63/100\n",
      "10/10 [==============================] - 0s 4ms/step - loss: 0.2557 - accuracy: 0.9000 - val_loss: 0.2113 - val_accuracy: 0.9400\n",
      "Epoch 64/100\n",
      "10/10 [==============================] - 0s 4ms/step - loss: 0.2552 - accuracy: 0.9000 - val_loss: 0.2112 - val_accuracy: 0.9400\n",
      "Epoch 65/100\n",
      "10/10 [==============================] - 0s 4ms/step - loss: 0.2548 - accuracy: 0.9000 - val_loss: 0.2111 - val_accuracy: 0.9400\n",
      "Epoch 66/100\n",
      "10/10 [==============================] - 0s 4ms/step - loss: 0.2543 - accuracy: 0.9000 - val_loss: 0.2108 - val_accuracy: 0.9400\n",
      "Epoch 67/100\n",
      "10/10 [==============================] - 0s 4ms/step - loss: 0.2538 - accuracy: 0.9000 - val_loss: 0.2106 - val_accuracy: 0.9400\n",
      "Epoch 68/100\n",
      "10/10 [==============================] - 0s 4ms/step - loss: 0.2534 - accuracy: 0.9000 - val_loss: 0.2103 - val_accuracy: 0.9300\n",
      "Epoch 69/100\n",
      "10/10 [==============================] - 0s 4ms/step - loss: 0.2530 - accuracy: 0.9033 - val_loss: 0.2102 - val_accuracy: 0.9300\n",
      "Epoch 70/100\n",
      "10/10 [==============================] - 0s 4ms/step - loss: 0.2525 - accuracy: 0.9033 - val_loss: 0.2101 - val_accuracy: 0.9300\n",
      "Epoch 71/100\n",
      "10/10 [==============================] - 0s 4ms/step - loss: 0.2520 - accuracy: 0.9033 - val_loss: 0.2098 - val_accuracy: 0.9300\n",
      "Epoch 72/100\n",
      "10/10 [==============================] - 0s 4ms/step - loss: 0.2518 - accuracy: 0.9033 - val_loss: 0.2095 - val_accuracy: 0.9300\n",
      "Epoch 73/100\n",
      "10/10 [==============================] - 0s 4ms/step - loss: 0.2516 - accuracy: 0.9033 - val_loss: 0.2095 - val_accuracy: 0.9300\n",
      "Epoch 74/100\n",
      "10/10 [==============================] - 0s 4ms/step - loss: 0.2510 - accuracy: 0.9067 - val_loss: 0.2091 - val_accuracy: 0.9300\n",
      "Epoch 75/100\n",
      "10/10 [==============================] - 0s 4ms/step - loss: 0.2505 - accuracy: 0.9067 - val_loss: 0.2089 - val_accuracy: 0.9300\n",
      "Epoch 76/100\n",
      "10/10 [==============================] - 0s 4ms/step - loss: 0.2499 - accuracy: 0.9067 - val_loss: 0.2089 - val_accuracy: 0.9300\n",
      "Epoch 77/100\n",
      "10/10 [==============================] - 0s 4ms/step - loss: 0.2497 - accuracy: 0.9067 - val_loss: 0.2088 - val_accuracy: 0.9300\n",
      "Epoch 78/100\n",
      "10/10 [==============================] - 0s 4ms/step - loss: 0.2493 - accuracy: 0.9067 - val_loss: 0.2087 - val_accuracy: 0.9300\n",
      "Epoch 79/100\n",
      "10/10 [==============================] - 0s 4ms/step - loss: 0.2491 - accuracy: 0.9067 - val_loss: 0.2086 - val_accuracy: 0.9300\n",
      "Epoch 80/100\n",
      "10/10 [==============================] - 0s 4ms/step - loss: 0.2487 - accuracy: 0.9067 - val_loss: 0.2084 - val_accuracy: 0.9300\n",
      "Epoch 81/100\n",
      "10/10 [==============================] - 0s 4ms/step - loss: 0.2485 - accuracy: 0.9067 - val_loss: 0.2083 - val_accuracy: 0.9300\n",
      "Epoch 82/100\n",
      "10/10 [==============================] - 0s 4ms/step - loss: 0.2482 - accuracy: 0.9067 - val_loss: 0.2082 - val_accuracy: 0.9300\n",
      "Epoch 83/100\n",
      "10/10 [==============================] - 0s 4ms/step - loss: 0.2478 - accuracy: 0.9067 - val_loss: 0.2079 - val_accuracy: 0.9300\n",
      "Epoch 84/100\n",
      "10/10 [==============================] - 0s 4ms/step - loss: 0.2475 - accuracy: 0.9067 - val_loss: 0.2078 - val_accuracy: 0.9300\n",
      "Epoch 85/100\n",
      "10/10 [==============================] - 0s 4ms/step - loss: 0.2478 - accuracy: 0.9067 - val_loss: 0.2076 - val_accuracy: 0.9300\n",
      "Epoch 86/100\n",
      "10/10 [==============================] - 0s 4ms/step - loss: 0.2470 - accuracy: 0.9067 - val_loss: 0.2077 - val_accuracy: 0.9300\n",
      "Epoch 87/100\n",
      "10/10 [==============================] - 0s 4ms/step - loss: 0.2468 - accuracy: 0.9067 - val_loss: 0.2078 - val_accuracy: 0.9300\n",
      "Epoch 88/100\n",
      "10/10 [==============================] - 0s 4ms/step - loss: 0.2466 - accuracy: 0.9067 - val_loss: 0.2077 - val_accuracy: 0.9300\n",
      "Epoch 89/100\n",
      "10/10 [==============================] - 0s 4ms/step - loss: 0.2463 - accuracy: 0.9067 - val_loss: 0.2075 - val_accuracy: 0.9300\n",
      "Epoch 90/100\n",
      "10/10 [==============================] - 0s 4ms/step - loss: 0.2462 - accuracy: 0.9067 - val_loss: 0.2074 - val_accuracy: 0.9300\n",
      "Epoch 91/100\n",
      "10/10 [==============================] - 0s 4ms/step - loss: 0.2459 - accuracy: 0.9067 - val_loss: 0.2075 - val_accuracy: 0.9300\n",
      "Epoch 92/100\n",
      "10/10 [==============================] - 0s 3ms/step - loss: 0.2455 - accuracy: 0.9067 - val_loss: 0.2074 - val_accuracy: 0.9300\n",
      "Epoch 93/100\n",
      "10/10 [==============================] - 0s 4ms/step - loss: 0.2455 - accuracy: 0.9067 - val_loss: 0.2072 - val_accuracy: 0.9300\n",
      "Epoch 94/100\n",
      "10/10 [==============================] - 0s 4ms/step - loss: 0.2452 - accuracy: 0.9067 - val_loss: 0.2071 - val_accuracy: 0.9300\n",
      "Epoch 95/100\n",
      "10/10 [==============================] - 0s 4ms/step - loss: 0.2451 - accuracy: 0.9100 - val_loss: 0.2071 - val_accuracy: 0.9300\n",
      "Epoch 96/100\n",
      "10/10 [==============================] - 0s 4ms/step - loss: 0.2450 - accuracy: 0.9067 - val_loss: 0.2070 - val_accuracy: 0.9300\n",
      "Epoch 97/100\n",
      "10/10 [==============================] - 0s 4ms/step - loss: 0.2446 - accuracy: 0.9067 - val_loss: 0.2069 - val_accuracy: 0.9300\n",
      "Epoch 98/100\n",
      "10/10 [==============================] - 0s 4ms/step - loss: 0.2446 - accuracy: 0.9100 - val_loss: 0.2066 - val_accuracy: 0.9300\n",
      "Epoch 99/100\n",
      "10/10 [==============================] - 0s 4ms/step - loss: 0.2442 - accuracy: 0.9100 - val_loss: 0.2065 - val_accuracy: 0.9300\n",
      "Epoch 100/100\n",
      "10/10 [==============================] - 0s 4ms/step - loss: 0.2440 - accuracy: 0.9100 - val_loss: 0.2062 - val_accuracy: 0.9300\n"
     ]
    },
    {
     "data": {
      "image/png": "[encoded data removed]",
      "text/plain": [
       "<Figure size 640x480 with 1 Axes>"
      ]
     },
     "metadata": {},
     "output_type": "display_data"
    },
    {
     "name": "stdout",
     "output_type": "stream",
     "text": [
      "4/4 [==============================] - 0s 903us/step\n",
      "[[0 0]\n",
      " [0 0]\n",
      " [0 0]\n",
      " [0 0]\n",
      " [0 0]\n",
      " [0 0]\n",
      " [0 0]\n",
      " [1 1]\n",
      " [0 0]\n",
      " [1 0]\n",
      " [0 0]\n",
      " [0 0]\n",
      " [0 0]\n",
      " [0 0]\n",
      " [0 0]\n",
      " [1 0]\n",
      " [0 0]\n",
      " [0 0]\n",
      " [1 1]\n",
      " [0 0]\n",
      " [0 0]\n",
      " [1 1]\n",
      " [0 0]\n",
      " [1 1]\n",
      " [0 0]\n",
      " [1 1]\n",
      " [0 0]\n",
      " [0 0]\n",
      " [0 0]\n",
      " [0 0]\n",
      " [0 0]\n",
      " [0 1]\n",
      " [1 1]\n",
      " [0 0]\n",
      " [0 0]\n",
      " [0 0]\n",
      " [0 0]\n",
      " [0 0]\n",
      " [0 0]\n",
      " [1 1]\n",
      " [0 0]\n",
      " [0 0]\n",
      " [0 0]\n",
      " [0 0]\n",
      " [1 1]\n",
      " [0 0]\n",
      " [0 0]\n",
      " [1 1]\n",
      " [0 0]\n",
      " [1 1]\n",
      " [1 1]\n",
      " [0 0]\n",
      " [0 0]\n",
      " [1 0]\n",
      " [1 1]\n",
      " [1 1]\n",
      " [0 0]\n",
      " [0 0]\n",
      " [1 1]\n",
      " [0 0]\n",
      " [0 0]\n",
      " [1 1]\n",
      " [0 0]\n",
      " [1 1]\n",
      " [0 0]\n",
      " [1 1]\n",
      " [0 0]\n",
      " [0 0]\n",
      " [0 0]\n",
      " [0 0]\n",
      " [1 1]\n",
      " [0 0]\n",
      " [0 0]\n",
      " [1 1]\n",
      " [0 0]\n",
      " [0 0]\n",
      " [0 0]\n",
      " [0 0]\n",
      " [1 1]\n",
      " [1 1]\n",
      " [1 1]\n",
      " [1 0]\n",
      " [0 0]\n",
      " [0 0]\n",
      " [1 1]\n",
      " [0 1]\n",
      " [0 0]\n",
      " [1 1]\n",
      " [1 1]\n",
      " [0 0]\n",
      " [0 0]\n",
      " [1 1]\n",
      " [0 0]\n",
      " [0 0]\n",
      " [0 0]\n",
      " [0 1]\n",
      " [0 0]\n",
      " [1 1]\n",
      " [1 1]\n",
      " [1 1]]\n",
      "Confusion Matrix pre Social_Network_Ads - Umela Neuronova Siet:\n",
      "[[64  4]\n",
      " [ 3 29]]\n",
      "Accuracy: 0.93\n",
      "\n"
     ]
    }
   ],
   "source": [
    "# 2. Dataset: Social_Network_Ads.csv - Umela Neuronova Siet\n",
    "# Nacitanie datasetu\n",
    "dataset_ads = pd.read_csv(\"Social_Network_Ads.csv\")\n",
    "X_ads = dataset_ads.iloc[:, [2, 3]].values\n",
    "y_ads = dataset_ads.iloc[:, 4].values\n",
    "\n",
    "# Rozdelenie datasetu na trenovaciu a testovaciu mnozinu\n",
    "X_train_ads, X_test_ads, y_train_ads, y_test_ads = train_test_split(\n",
    "    X_ads, y_ads, test_size=0.25, random_state=0\n",
    ")\n",
    "\n",
    "# Feature Scaling\n",
    "sc_ads = StandardScaler()\n",
    "X_train_ads = sc_ads.fit_transform(X_train_ads)\n",
    "X_test_ads = sc_ads.transform(X_test_ads)\n",
    "\n",
    "# Inicializacia ANN\n",
    "ann_ads = tf.keras.models.Sequential()\n",
    "ann_ads.add(tf.keras.layers.Dense(units=6, activation=\"relu\", input_dim=2))\n",
    "ann_ads.add(tf.keras.layers.Dense(units=6, activation=\"relu\"))\n",
    "ann_ads.add(tf.keras.layers.Dense(units=1, activation=\"sigmoid\"))\n",
    "\n",
    "# Kompilacia ANN\n",
    "ann_ads.compile(optimizer=\"adam\", loss=\"binary_crossentropy\", metrics=[\"accuracy\"])\n",
    "\n",
    "# Trening ANN\n",
    "ann_history_ads = ann_ads.fit(\n",
    "    X_train_ads,\n",
    "    y_train_ads,\n",
    "    validation_data=(X_test_ads, y_test_ads),\n",
    "    batch_size=32,\n",
    "    epochs=100,\n",
    ")\n",
    "\n",
    "# Graf trenovania pre ANN\n",
    "plt.plot(ann_history_ads.history[\"accuracy\"])\n",
    "plt.plot(ann_history_ads.history[\"val_accuracy\"])\n",
    "plt.title(\"Model Accuracy - Social_Network_Ads ANN\")\n",
    "plt.ylabel(\"Accuracy\")\n",
    "plt.xlabel(\"Epoch\")\n",
    "plt.legend([\"Train\", \"Test\"], loc=\"upper left\")\n",
    "plt.show()\n",
    "\n",
    "# Predikcia vysledkov pre testovaciu mnozinu pomocou ANN\n",
    "y_pred_ads_ann = ann_ads.predict(X_test_ads)\n",
    "y_pred_ads_ann = y_pred_ads_ann > 0.5\n",
    "print(\n",
    "    np.concatenate(\n",
    "        (\n",
    "            y_pred_ads_ann.reshape(len(y_pred_ads_ann), 1),\n",
    "            y_test_ads.reshape(len(y_test_ads), 1),\n",
    "        ),\n",
    "        1,\n",
    "    )\n",
    ")\n",
    "\n",
    "# Confusion Matrix a accuracy score pre ANN\n",
    "cm_ads_ann = confusion_matrix(y_test_ads, y_pred_ads_ann)\n",
    "accuracy_ads_ann = accuracy_score(y_test_ads, y_pred_ads_ann)\n",
    "print(\"Confusion Matrix pre Social_Network_Ads - Umela Neuronova Siet:\")\n",
    "print(cm_ads_ann)\n",
    "print(f\"Accuracy: {accuracy_ads_ann}\\n\")"
   ]
  }
 ],
 "metadata": {
  "kernelspec": {
   "display_name": "Python 3",
   "language": "python",
   "name": "python3"
  },
  "language_info": {
   "codemirror_mode": {
    "name": "ipython",
    "version": 3
   },
   "file_extension": ".py",
   "mimetype": "text/x-python",
   "name": "python",
   "nbconvert_exporter": "python",
   "pygments_lexer": "ipython3",
   "version": "3.10.0"
  }
 },
 "nbformat": 4,
 "nbformat_minor": 5
}
