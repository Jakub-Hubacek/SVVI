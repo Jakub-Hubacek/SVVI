{
 "cells": [
  {
   "cell_type": "code",
   "execution_count": null,
   "metadata": {},
   "outputs": [],
   "source": [
    "import numpy as np\n",
    "import cv2 as cv\n",
    "from matplotlib import pyplot as plt\n",
    "\n",
    "img1 = np.zeros((200, 200), np.uint8)\n",
    "\n",
    "plt.imshow(img1, \"gray\")"
   ]
  },
  {
   "cell_type": "code",
   "execution_count": null,
   "metadata": {},
   "outputs": [],
   "source": [
    "cv.rectangle(img1, (0, 100), (200, 200), (255), -1)\n",
    "cv.rectangle(img1, (160, 120), (190, 200), (75), -1)  \n",
    "cv.rectangle(img1, (10, 40), (120, 130), (155), -1)\n",
    "\n",
    "plt.imshow(img1, \"gray\")"
   ]
  },
  {
   "cell_type": "code",
   "execution_count": null,
   "metadata": {},
   "outputs": [],
   "source": [
    "img2 = np.flip(img1)\n",
    "plt.imshow(img2, \"gray\")"
   ]
  },
  {
   "cell_type": "code",
   "execution_count": null,
   "metadata": {},
   "outputs": [],
   "source": [
    "plt.subplot(2,1,1)\n",
    "plt.title(\"Štvorce\")\n",
    "plt.imshow(img1, \"gray\")    \n",
    "\n",
    "\n",
    "plt.subplot(2,1,2)\n",
    "plt.hist(img1.ravel(), 256, [0, 256])\n",
    "plt.tight_layout()\n",
    "plt.savefig(\"Stvorce.png\")"
   ]
  },
  {
   "cell_type": "code",
   "execution_count": null,
   "metadata": {},
   "outputs": [],
   "source": [
    "plt.subplot(2,1,1)\n",
    "plt.title(\"Štvorce naopak\")\n",
    "plt.imshow(img2, \"gray\")\n",
    "\n",
    "plt.subplot(2,1,2)\n",
    "plt.hist(img2.ravel(), 256, [0, 256])\n",
    "\n",
    "plt.tight_layout\n",
    "plt.savefig(\"Stvorce_naopak.png\")"
   ]
  },
  {
   "cell_type": "code",
   "execution_count": null,
   "metadata": {},
   "outputs": [],
   "source": [
    "gradient = cv.imread(\"sms_obrazy/rampa.png\")\n",
    "plt.subplot(2,1,1)\n",
    "plt.title(\"Ramp\")\n",
    "plt.imshow(gradient, \"gray\")\n",
    "\n",
    "plt.subplot(2,1,2)\n",
    "plt.hist(gradient.ravel(), 256, [0, 256])\n",
    "\n",
    "plt.tight_layout()\n",
    "plt.savefig(\"Ramp.png\")\n",
    "plt.show()"
   ]
  },
  {
   "cell_type": "code",
   "execution_count": null,
   "metadata": {},
   "outputs": [],
   "source": [
    "img3 = cv.imread(\"sms_obrazy/chlapec2.png\", 0)\n",
    "img4 = cv.equalizeHist(img3)\n",
    "\n",
    "clahe = cv.createCLAHE(clipLimit=2.0, tileGridSize=(8,8))\n",
    "img5 = clahe.apply(img3)\n",
    "\n",
    "plt.subplot(2,3,1)\n",
    "plt.title(\"Default\")\n",
    "plt.imshow(img3, \"gray\")\n",
    "plt.subplot(2,3,2)\n",
    "plt.title(\"Equalized\")\n",
    "plt.imshow(img4, \"gray\")\n",
    "plt.subplot(2,3,3)\n",
    "plt.title(\"Adaptive equalized\")\n",
    "plt.imshow(img5, \"gray\")\n",
    "\n",
    "plt.tight_layout()\n",
    "plt.subplot(2,3,4)\n",
    "plt.hist(img3.ravel(), 256, [0, 256])\n",
    "\n",
    "plt.tight_layout()\n",
    "plt.subplot(2,3,5)\n",
    "plt.hist(img4.ravel(), 256, [0, 256])\n",
    "\n",
    "plt.tight_layout()\n",
    "plt.subplot(2,3,6)\n",
    "plt.hist(img5.ravel(), 256, [0, 256])"
   ]
  },
  {
   "cell_type": "code",
   "execution_count": null,
   "metadata": {},
   "outputs": [],
   "source": [
    "plt.tight_layout()\n",
    "plt.savefig(\"Chlapci.png\", dpi=250)\n",
    "plt.show()\n",
    "\n",
    "plt.subplot(2,2,1)\n",
    "plt.title(\"Adaptive equalized\")\n",
    "plt.imshow(img5, \"gray\")\n",
    "\n",
    "plt.subplot(2,2,3)\n",
    "plt.hist(img5.ravel(), 256, [0, 256])\n",
    "\n",
    "clahe = cv.createCLAHE(clipLimit=3, tileGridSize=(30,30))\n",
    "img55 = clahe.apply(img3)\n",
    "plt.subplot(2,2,2)\n",
    "plt.title(\"Adaptive equalized2\")\n",
    "plt.imshow(img55, \"gray\")\n",
    "\n",
    "plt.subplot(2,2,4)\n",
    "plt.hist(img55.ravel(), 256, [0, 256])\n",
    "\n",
    "plt.tight_layout()\n",
    "plt.savefig(\"Chlapci_equalized.png\", dpi=250)\n",
    "plt.show()    "
   ]
  },
  {
   "cell_type": "code",
   "execution_count": 9,
   "metadata": {},
   "outputs": [],
   "source": [
    "img6 = cv.imread(\"sms_obrazy/lena.png\", 0)\n",
    "\n",
    "cv.imshow(\"Default Lena\", img6)\n",
    "\n",
    "\n",
    "kernel1 = np.ones((5, 5), np.float32) / 25\n",
    "img7 = cv.filter2D(img6, -1, kernel1)\n",
    "\n",
    "kernel2 = np.ones((20, 20), np.float32) / 400\n",
    "img8 = cv.filter2D(img6, -1, kernel2)\n",
    "\n",
    "img9 = cv.blur(img6, (5,5))\n",
    "img10 = cv.GaussianBlur(img6, (5,5), 0)\n",
    "img11 = cv.medianBlur(img6, 11)\n",
    "img12 = cv.bilateralFilter(img6, 5, 90, 90)\n",
    "\n",
    "cv.imwrite(\"lena7.png\", img7)\n",
    "cv.imshow(\"Custom kernel 5x5\", img7)\n",
    "cv.imshow(\"Custom kernel 20x20\", img8)\n",
    "cv.imshow(\"CV2 Blur\", img9)\n",
    "cv.imshow(\"CV2 Gaussian Blur\", img10)\n",
    "cv.imshow(\"CV2 Median Blur\", img11)\n",
    "cv.imshow(\"CV2 Bilateral Filter\", img12)\n",
    "\n",
    "cv.waitKey(0)\n",
    "cv.destroyAllWindows()"
   ]
  },
  {
   "cell_type": "code",
   "execution_count": null,
   "metadata": {},
   "outputs": [],
   "source": []
  },
  {
   "cell_type": "code",
   "execution_count": null,
   "metadata": {},
   "outputs": [],
   "source": []
  },
  {
   "cell_type": "code",
   "execution_count": null,
   "metadata": {},
   "outputs": [],
   "source": []
  },
  {
   "cell_type": "code",
   "execution_count": null,
   "metadata": {},
   "outputs": [],
   "source": []
  },
  {
   "cell_type": "code",
   "execution_count": null,
   "metadata": {},
   "outputs": [],
   "source": []
  },
  {
   "cell_type": "code",
   "execution_count": null,
   "metadata": {},
   "outputs": [],
   "source": []
  },
  {
   "cell_type": "code",
   "execution_count": null,
   "metadata": {},
   "outputs": [],
   "source": []
  },
  {
   "cell_type": "code",
   "execution_count": null,
   "metadata": {},
   "outputs": [],
   "source": []
  },
  {
   "cell_type": "code",
   "execution_count": null,
   "metadata": {},
   "outputs": [],
   "source": []
  },
  {
   "cell_type": "code",
   "execution_count": null,
   "metadata": {},
   "outputs": [],
   "source": []
  }
 ],
 "metadata": {
  "kernelspec": {
   "display_name": "Python 3",
   "language": "python",
   "name": "python3"
  },
  "language_info": {
   "codemirror_mode": {
    "name": "ipython",
    "version": 3
   },
   "file_extension": ".py",
   "mimetype": "text/x-python",
   "name": "python",
   "nbconvert_exporter": "python",
   "pygments_lexer": "ipython3",
   "version": "3.10.0"
  }
 },
 "nbformat": 4,
 "nbformat_minor": 2
}
