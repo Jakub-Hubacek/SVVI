{
 "cells": [
  {
   "cell_type": "markdown",
   "id": "31b986bc-5705-4b2a-b89a-5942e9f87671",
   "metadata": {},
   "source": [
    "<h2>LINEÁRNA REGRESIA</h2>"
   ]
  },
  {
   "cell_type": "markdown",
   "id": "dfab4f33-ad3f-4679-953e-85eef1922332",
   "metadata": {},
   "source": [
    "Zo stránky https://www.superdatascience.com/machine-learning/ stiahneme súbor <strong>Machine Learning A-Z (Codes and Datasets).zip</strong> a nájdeme súbor <strong>Salary_Data.csv</strong> v časti <em>Part 2: Regression</em>."
   ]
  },
  {
   "cell_type": "markdown",
   "id": "87fa0322-7c48-4f3f-84a2-479d9782c6d6",
   "metadata": {},
   "source": [
    "Z tohto archívu nás zaujíma súbor <strong>Salary_Data.csv</strong>, nájdeme v ňom teda tento súbor (je v <em>Section 6 - Simple Linear Regression</em>). Dáme ho do priečinka, kde sa nachádza aj tento notebook (ipynb súbor). Budú teda v tom istom priečinku. Nakoľko csv súbory Excel nie vždy otvára správne, otvoríme ho priamo v JupyterLab alebo Google Colab alebo online pomocou stránky https://limonte.github.io/csv-viewer-online/ ."
   ]
  },
  {
   "cell_type": "markdown",
   "id": "3840db12-7ac0-4423-8362-49c7661c6c13",
   "metadata": {},
   "source": [
    "V tejto tabuľke sa nachádzajú odpracované roky zamestnancov (prax) a ich plat. Medzi týmito údajmi existuje závislosť, ktorú vieme aproximovať lineárnou funkciou."
   ]
  },
  {
   "cell_type": "markdown",
   "id": "cee1b40b-ed08-4b3c-953e-cad63105dbe0",
   "metadata": {},
   "source": [
    "Využijeme výňatok z kódu nášho <strong>data preprocessing templatu</strong>, pričom sme zmazali časti, ktoré vzhľadom k povahe datasetu s platmi nepotrebujeme (<em>Taking care of missing data</em>, <em>Encoding categorical data</em>, <em>Feature Scaling</em>)"
   ]
  },
  {
   "cell_type": "code",
   "execution_count": null,
   "id": "32b5bfcf-cda7-4563-bd6c-ddf8599a1a39",
   "metadata": {},
   "outputs": [],
   "source": [
    "# Data Preprocessing\n",
    "\n",
    "# Importing the libraries\n",
    "import numpy as np\n",
    "import matplotlib.pyplot as plt\n",
    "import pandas as pd\n",
    "\n",
    "# Importing the dataset\n",
    "dataset = pd.read_csv('Salary_Data.csv')\n",
    "\n",
    "X = dataset.iloc[:, :-1].values\n",
    "y = dataset.iloc[:, -1].values"
   ]
  },
  {
   "cell_type": "markdown",
   "id": "eca73da0-041a-4d4f-b735-2ff8b729cb7a",
   "metadata": {},
   "source": [
    "Riadok s rozdeľovaním dát na trénovacie a testovacie upravíme tak, aby testovacie dáta tvorili tretinu datasetu:"
   ]
  },
  {
   "cell_type": "code",
   "execution_count": null,
   "id": "157de4bc-7d58-45f5-bec7-28b0b7a28ef2",
   "metadata": {},
   "outputs": [],
   "source": [
    "# Splitting the dataset into the Training set and Test set\n",
    "from sklearn.model_selection import train_test_split\n",
    "X_train, X_test, y_train, y_test = train_test_split(X, y, test_size = 1/3, random_state = 1)"
   ]
  },
  {
   "cell_type": "markdown",
   "id": "cdeb76ed-fe34-4194-b105-f7814276df8c",
   "metadata": {},
   "source": [
    "Potrebujeme teraz vytvoriť regresor – objekt triedy <strong>LinearRegression</strong>. Spustíme teda kód:"
   ]
  },
  {
   "cell_type": "code",
   "execution_count": null,
   "id": "7a22823b-619c-4e68-9f46-8e33a18a96f2",
   "metadata": {},
   "outputs": [],
   "source": [
    "# Fitting Simple Linear Regression to the Training Set\n",
    "from sklearn.linear_model import LinearRegression\n",
    "regressor = LinearRegression()"
   ]
  },
  {
   "cell_type": "markdown",
   "id": "7f97ca97-5f9d-437b-ac57-c11b3e7bd0be",
   "metadata": {},
   "source": [
    "Teraz regresor potrebujeme vypočítať podľa našich trénovacích dát. Spustíme kód:"
   ]
  },
  {
   "cell_type": "code",
   "execution_count": null,
   "id": "bbe2a7b3-5035-4a91-a4a7-72b934873892",
   "metadata": {},
   "outputs": [],
   "source": [
    "regressor.fit(X_train, y_train)"
   ]
  },
  {
   "cell_type": "markdown",
   "id": "443b2911-6108-4247-a112-86156fd1622d",
   "metadata": {},
   "source": [
    "Teraz otestujeme náš regresor na testovacích dátach a rovno zobrazíme predikované dáta. Spustíme kód:"
   ]
  },
  {
   "cell_type": "code",
   "execution_count": null,
   "id": "2fc0e829-9e32-4f6d-9c85-9de57a200e9a",
   "metadata": {},
   "outputs": [],
   "source": [
    "# Predicting the Test set results\n",
    "y_pred = regressor.predict(X_test)\n",
    "print (y_pred)"
   ]
  },
  {
   "cell_type": "markdown",
   "id": "b0cd36fc-87b2-42cf-8297-8baa78057f1a",
   "metadata": {},
   "source": [
    "Vizualizujme si regresnú priamku (modrá) spolu s trénovacími dátami (červené):"
   ]
  },
  {
   "cell_type": "code",
   "execution_count": null,
   "id": "8564969c-0dbd-4828-8a4e-3d4b84e7ef8c",
   "metadata": {},
   "outputs": [],
   "source": [
    "# Visualising the Training set results\n",
    "plt.scatter(X_train, y_train, color = 'red')\n",
    "plt.plot(X_train, regressor.predict(X_train), color = 'blue')\n",
    "plt.title ('Salary vs Experience (Training set)')\n",
    "plt.xlabel ('Years of Experience')\n",
    "plt.ylabel ('Salary')\n",
    "plt.show()"
   ]
  },
  {
   "cell_type": "markdown",
   "id": "1b2b4a5c-86ae-487c-aef3-fb9c6dab2897",
   "metadata": {},
   "source": [
    "Vizualizujme si regresnú priamku spolu s testovacími dátami:"
   ]
  },
  {
   "cell_type": "code",
   "execution_count": null,
   "id": "c04966df-adca-40de-a2e5-1b62fd63c4eb",
   "metadata": {},
   "outputs": [],
   "source": [
    "# Visualising the Test set results\n",
    "plt.scatter(X_test, y_test, color = 'red')\n",
    "plt.plot(X_train, regressor.predict(X_train), color = 'blue')\n",
    "plt.title ('Salary vs Experience (Test set)')\n",
    "plt.xlabel ('Years of Experience')\n",
    "plt.ylabel ('Salary')\n",
    "plt.show()"
   ]
  },
  {
   "cell_type": "markdown",
   "id": "d88e0029-019b-4788-85e1-3014692e68f6",
   "metadata": {},
   "source": [
    "Program je hotový. Prečítame si a <strong>splníme úlohu</strong> na konci nášho dokumentu k cvičeniu."
   ]
  }
 ],
 "metadata": {
  "kernelspec": {
   "display_name": "Python 3 (ipykernel)",
   "language": "python",
   "name": "python3"
  },
  "language_info": {
   "codemirror_mode": {
    "name": "ipython",
    "version": 3
   },
   "file_extension": ".py",
   "mimetype": "text/x-python",
   "name": "python",
   "nbconvert_exporter": "python",
   "pygments_lexer": "ipython3",
   "version": "3.11.4"
  }
 },
 "nbformat": 4,
 "nbformat_minor": 5
}
